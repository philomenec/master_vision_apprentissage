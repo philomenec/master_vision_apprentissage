{
 "cells": [
  {
   "cell_type": "markdown",
   "metadata": {
    "colab_type": "text",
    "id": "_lgWumiLTtBC"
   },
   "source": [
    "**You may need to install [OpenCV](https://pypi.python.org/pypi/opencv-python) and [scikit-video](http://www.scikit-video.org/stable/).**"
   ]
  },
  {
   "cell_type": "markdown",
   "metadata": {
    "colab_type": "text",
    "id": "0KRNpzvATtBG"
   },
   "source": [
    "Philomène Chagniot"
   ]
  },
  {
   "cell_type": "code",
   "execution_count": 2,
   "metadata": {
    "colab": {
     "base_uri": "https://localhost:8080/",
     "height": 216
    },
    "colab_type": "code",
    "id": "o3JXwGTxTtBL",
    "outputId": "bfd07816-2302-4be8-9cba-f9242860bef5",
    "scrolled": true
   },
   "outputs": [
    {
     "name": "stdout",
     "output_type": "stream",
     "text": [
      "Collecting scikit-video\n",
      "\u001b[?25l  Downloading https://files.pythonhosted.org/packages/b1/a6/c69cad508139a342810ae46e946ebb3256aa6e42f690d901bb68f50582e3/scikit_video-1.1.11-py2.py3-none-any.whl (2.3MB)\n",
      "\u001b[K     |████████████████████████████████| 2.3MB 4.9MB/s \n",
      "\u001b[?25hRequirement already satisfied: pillow in /usr/local/lib/python3.6/dist-packages (from scikit-video) (6.2.2)\n",
      "Requirement already satisfied: numpy in /usr/local/lib/python3.6/dist-packages (from scikit-video) (1.17.5)\n",
      "Requirement already satisfied: scipy in /usr/local/lib/python3.6/dist-packages (from scikit-video) (1.4.1)\n"
     ]
    },
    {
     "name": "stderr",
     "output_type": "stream",
     "text": [
      "Using TensorFlow backend.\n"
     ]
    },
    {
     "data": {
      "text/html": [
       "<p style=\"color: red;\">\n",
       "The default version of TensorFlow in Colab will soon switch to TensorFlow 2.x.<br>\n",
       "We recommend you <a href=\"https://www.tensorflow.org/guide/migrate\" target=\"_blank\">upgrade</a> now \n",
       "or ensure your notebook will continue to use TensorFlow 1.x via the <code>%tensorflow_version 1.x</code> magic:\n",
       "<a href=\"https://colab.research.google.com/notebooks/tensorflow_version.ipynb\" target=\"_blank\">more info</a>.</p>\n"
      ],
      "text/plain": [
       "<IPython.core.display.HTML object>"
      ]
     },
     "metadata": {
      "tags": []
     },
     "output_type": "display_data"
    }
   ],
   "source": [
    "# ! pip install sk-video\n",
    "# # pip install ffmpeg-python\n",
    "# import ffmpeg\n",
    "! pip install scikit-video\n",
    "import keras\n",
    "import numpy as np\n",
    "import io\n",
    "import base64\n",
    "from IPython.display import HTML\n",
    "import skvideo.io\n",
    "import cv2\n",
    "import json\n",
    "import skvideo\n",
    "\n",
    "from keras.models import Sequential,model_from_json\n",
    "from keras.layers.core import Dense,Flatten\n",
    "from keras.optimizers import sgd,Adam\n",
    "from keras.layers import Conv2D, MaxPooling2D, Activation, AveragePooling2D,Reshape,BatchNormalization"
   ]
  },
  {
   "cell_type": "markdown",
   "metadata": {
    "colab_type": "text",
    "id": "VoQNYE50TtBS"
   },
   "source": [
    "# MiniProject on Deep Reinforcement Learning"
   ]
  },
  {
   "cell_type": "markdown",
   "metadata": {
    "colab_type": "text",
    "id": "mmZV45XJTtBU"
   },
   "source": [
    "__Notations__: $E_p$ is the expectation under probability $p$. Please justify each of your answer and widely comment your code."
   ]
  },
  {
   "cell_type": "markdown",
   "metadata": {
    "colab_type": "text",
    "id": "ydzRslb_TtBV"
   },
   "source": [
    "# Context"
   ]
  },
  {
   "cell_type": "markdown",
   "metadata": {
    "colab_type": "text",
    "id": "wijHDwSWTtBX"
   },
   "source": [
    "In a reinforcement learning algorithm, we modelize each step $t$ as an action $a_t$ obtained from a state $s_t$, i.e. $\\{(a_{t},s_{t})_{t\\leq T}\\}$ having the Markov property. We consider a discount factor $\\gamma \\in [0,1]$ that ensures convergence. The goal is to find among all the policies $\\pi$, one that maximizes the expected reward:\n",
    "\n",
    "\\begin{equation*}\n",
    "R(\\pi)=\\sum_{t\\leq T}E_{p^{\\pi}}[\\gamma^t r(s_{t},a_{t})] \\> ,\n",
    "\\end{equation*}\n",
    "\n",
    "where: \n",
    "\\begin{equation*}p^{\\pi}(a_{0},a_{1},s_{1},...,a_{T},s_{T})=p(a_{0})\\prod_{t=1}^{T}\\pi(a_{t}|s_{t})p(s_{t+1}|s_{t},a_{t}) \\> .\n",
    "\\end{equation*}\n",
    "\n",
    "We note the $Q$-function:\n",
    "\n",
    "\\begin{equation*}Q^\\pi(s,a)=E_{p^{\\pi}}[\\sum_{t\\leq T}\\gamma^{t}r(s_{t},a_{t})|s_{0}=s,a_{0}=a] \\> .\n",
    "\\end{equation*}\n",
    "\n",
    "Thus, the optimal Q function is:\n",
    "\\begin{equation*}\n",
    "Q^*(s,a)=\\max_{\\pi}Q^\\pi(s,a) \\> .\n",
    "\\end{equation*}\n",
    "\n",
    "In this project, we will apply the deep reinforcement learning techniques to a simple game: an agent will have to learn from scratch a policy that will permit it maximizing a reward."
   ]
  },
  {
   "cell_type": "markdown",
   "metadata": {
    "colab_type": "text",
    "id": "VLkqS5eNTtBY"
   },
   "source": [
    "## The environment, the agent and the game"
   ]
  },
  {
   "cell_type": "markdown",
   "metadata": {
    "colab_type": "text",
    "id": "ZlcgCyB7TtBZ"
   },
   "source": [
    "### The environment"
   ]
  },
  {
   "cell_type": "markdown",
   "metadata": {
    "colab_type": "text",
    "id": "BgDTOP_DTtBb"
   },
   "source": [
    "```Environment``` is an abstract class that represents the states, rewards, and actions to obtain the new state."
   ]
  },
  {
   "cell_type": "code",
   "execution_count": 0,
   "metadata": {
    "colab": {},
    "colab_type": "code",
    "id": "VtrGJARlTtBc"
   },
   "outputs": [],
   "source": [
    "class Environment(object):\n",
    "    def __init__(self):\n",
    "        pass\n",
    "\n",
    "    def act(self, act):\n",
    "        \"\"\"\n",
    "        One can act on the environment and obtain its reaction:\n",
    "        - the new state\n",
    "        - the reward of the new state\n",
    "        - should we continue the game?\n",
    "\n",
    "        :return: state, reward, game_over\n",
    "        \"\"\"\n",
    "        pass\n",
    "\n",
    "\n",
    "    def reset(self):\n",
    "        \"\"\"\n",
    "        Reinitialize the environment to a random state and returns\n",
    "        the original state\n",
    "\n",
    "        :return: state\n",
    "        \"\"\"\n",
    "        pass\n",
    "    \n",
    "    def draw(self):\n",
    "        \"\"\"\n",
    "        Visualize in the console or graphically the current state\n",
    "        \"\"\"\n",
    "        pass"
   ]
  },
  {
   "cell_type": "markdown",
   "metadata": {
    "colab_type": "text",
    "id": "hmy3dOZnTtBi"
   },
   "source": [
    "The method ```act``` allows to act on the environment at a given state $s_t$ (stored internally), via action $a_t$. The method will return the new state $s_{t+1}$, the reward $r(s_{t},a_{t})$ and determines if $t\\leq T$ (*game_over*).\n",
    "\n",
    "The method ```reset``` simply reinitializes the environment to a random state $s_0$.\n",
    "\n",
    "The method ```draw``` displays the current state $s_t$ (this is useful to check the behavior of the Agent).\n",
    "\n",
    "We modelize $s_t$ as a tensor, while $a_t$ is an integer."
   ]
  },
  {
   "cell_type": "markdown",
   "metadata": {
    "colab_type": "text",
    "id": "LlQZz6mOTtBj"
   },
   "source": [
    "### The Agent"
   ]
  },
  {
   "cell_type": "markdown",
   "metadata": {
    "colab_type": "text",
    "id": "E5nPUWZDTtBl"
   },
   "source": [
    "The goal of the ```Agent``` is to interact with the ```Environment``` by proposing actions $a_t$ obtained from a given state $s_t$ to attempt to maximize its __reward__ $r(s_t,a_t)$. We propose the following abstract class:"
   ]
  },
  {
   "cell_type": "code",
   "execution_count": 0,
   "metadata": {
    "colab": {},
    "colab_type": "code",
    "id": "P9L_o80rTtBm"
   },
   "outputs": [],
   "source": [
    "class Agent(object):\n",
    "    def __init__(self, epsilon=0.1, n_action=4):\n",
    "        self.epsilon = epsilon\n",
    "        self.n_action = n_action\n",
    "    \n",
    "    def set_epsilon(self,e):\n",
    "        self.epsilon = e\n",
    "\n",
    "    def act(self,s,train=True):\n",
    "        \"\"\" This function should return the next action to do:\n",
    "        an integer between 0 and 4 (not included) with a random exploration of epsilon\"\"\"\n",
    "        if train:\n",
    "            if np.random.rand() <= self.epsilon:\n",
    "                a = np.random.randint(0, self.n_action, size=1)[0]\n",
    "            else:\n",
    "                a = self.learned_act(s)\n",
    "        else: # in some cases, this can improve the performance.. remove it if poor performances\n",
    "            a = self.learned_act(s)\n",
    "\n",
    "        return a\n",
    "\n",
    "    def learned_act(self,s):\n",
    "        \"\"\" Act via the policy of the agent, from a given state s\n",
    "        it proposes an action a\"\"\"\n",
    "        pass\n",
    "\n",
    "    def reinforce(self, s, n_s, a, r, game_over_):\n",
    "        \"\"\" This function is the core of the learning algorithm. \n",
    "        It takes as an input the current state s_, the next state n_s_\n",
    "        the action a_ used to move from s_ to n_s_ and the reward r_.\n",
    "        \n",
    "        Its goal is to learn a policy.\n",
    "        \"\"\"\n",
    "        pass\n",
    "\n",
    "    def save(self):\n",
    "        \"\"\" This function returns basic stats if applicable: the\n",
    "        loss and/or the model\"\"\"\n",
    "        pass\n",
    "\n",
    "    def load(self):\n",
    "        \"\"\" This function allows to restore a model\"\"\"\n",
    "        pass"
   ]
  },
  {
   "cell_type": "markdown",
   "metadata": {
    "colab_type": "text",
    "id": "w_MXMcpgTtBt"
   },
   "source": [
    "***\n",
    "__Question 1__:\n",
    "Explain the function act. Why is ```epsilon``` essential?\n"
   ]
  },
  {
   "cell_type": "markdown",
   "metadata": {
    "colab_type": "text",
    "id": "H5Yf7p4qTtBu"
   },
   "source": [
    "__Answer__ : \n",
    "The function `act` takes as input the state, and a boolean that indicates whether the function is used during training or not. If it is used for testing, the function act returns the policy learnt during the training, ie the \"best action\" given the state in input learnt by the agent. If the function `act` is used during training, the algorithm follows the policy learnt until now to select the action with probability $(1-\\epsilon)$. With probability $\\epsilon$, it uniformly selects an action at random among all possible actions. <br>\n",
    "\n",
    "\n",
    "Thus, __if $\\epsilon$ is too small, the agent only follows an \"exploitation\" strategy__ : it behaves in a greedy way, and select the actions that he estimated being the best, which may not be the case in reality. Thus, it is important to \"explore\" other actions, in order to avoid repeating actions that are actually suboptimal and thus to increase the cumulated rewards. However, __if the exploration parameter $\\epsilon$ is too big, the agent never \"exploits\" what he has learnt__, and the cumulative reward will be similar as the one of a random agent, thus suboptimal. \n"
   ]
  },
  {
   "cell_type": "markdown",
   "metadata": {
    "colab_type": "text",
    "id": "EWH--qm3TtBv"
   },
   "source": [
    "***\n",
    "### The Game"
   ]
  },
  {
   "cell_type": "markdown",
   "metadata": {
    "colab_type": "text",
    "id": "hea_bO7qTtBx"
   },
   "source": [
    "The ```Agent``` and the ```Environment``` work in an interlaced way as in the following (take some time to understand this code as it is the core of the project)\n",
    "\n",
    "```python\n",
    "\n",
    "epoch = 300\n",
    "env = Environment()\n",
    "agent = Agent()\n",
    "\n",
    "\n",
    "# Number of won games\n",
    "score = 0\n",
    "loss = 0\n",
    "\n",
    "\n",
    "for e in range(epoch):\n",
    "    # At each epoch, we restart to a fresh game and get the initial state\n",
    "    state = env.reset()\n",
    "    # This assumes that the games will end\n",
    "    game_over = False\n",
    "\n",
    "    win = 0\n",
    "    lose = 0\n",
    "    \n",
    "    while not game_over:\n",
    "        # The agent performs an action\n",
    "        action = agent.act(state)\n",
    "\n",
    "        # Apply an action to the environment, get the next state, the reward\n",
    "        # and if the games end\n",
    "        prev_state = state\n",
    "        state, reward, game_over = env.act(action)\n",
    "\n",
    "        # Update the counters\n",
    "        if reward > 0:\n",
    "            win = win + reward\n",
    "        if reward < 0:\n",
    "            lose = lose -reward\n",
    "\n",
    "        # Apply the reinforcement strategy\n",
    "        loss = agent.reinforce(prev_state, state,  action, reward, game_over)\n",
    "\n",
    "    # Save as a mp4\n",
    "    if e % 10 == 0:\n",
    "        env.draw(e)\n",
    "\n",
    "    # Update stats\n",
    "    score += win-lose\n",
    "\n",
    "    print(\"Epoch {:03d}/{:03d} | Loss {:.4f} | Win/lose count {}/{} ({})\"\n",
    "          .format(e, epoch, loss, win, lose, win-lose))\n",
    "    agent.save()\n",
    "```"
   ]
  },
  {
   "cell_type": "markdown",
   "metadata": {
    "colab_type": "text",
    "id": "ixkJFOv9TtBy"
   },
   "source": [
    "# The game, *eat cheese*"
   ]
  },
  {
   "cell_type": "markdown",
   "metadata": {
    "colab_type": "text",
    "id": "mkzfAr5MTtBz"
   },
   "source": [
    "A rat runs on an island and tries to eat as much as possible. The island is subdivided into $N\\times N$ cells, in which there are cheese (+0.5) and poisonous cells (-1). The rat has a visibility of 2 cells (thus it can see $5^2$ cells). The rat is given a time $T$ to accumulate as much food as possible. It can perform 4 actions: going up, down, left, right. \n",
    "\n",
    "The goal is to code an agent to solve this task that will learn by trial and error. We propose the following environment:"
   ]
  },
  {
   "cell_type": "code",
   "execution_count": 0,
   "metadata": {
    "colab": {},
    "colab_type": "code",
    "id": "C5BKC3B3TtB1"
   },
   "outputs": [],
   "source": [
    "class Environment(object):\n",
    "    def __init__(self, grid_size=10, max_time=500, temperature=0.1):\n",
    "        grid_size = grid_size+4\n",
    "        self.grid_size = grid_size\n",
    "        self.max_time = max_time\n",
    "        self.temperature = temperature\n",
    "\n",
    "        #board on which one plays\n",
    "        self.board = np.zeros((grid_size,grid_size))\n",
    "        self.position = np.zeros((grid_size,grid_size))\n",
    "\n",
    "        # coordinate of the cat \n",
    "        self.x = 0\n",
    "        self.y = 1\n",
    "\n",
    "        # self time\n",
    "        self.t = 0\n",
    "\n",
    "        self.scale=16\n",
    "\n",
    "        self.to_draw = np.zeros((max_time+2, grid_size*self.scale, grid_size*self.scale, 3))\n",
    "\n",
    "\n",
    "    def draw(self,e):\n",
    "        skvideo.io.vwrite(str(e) + '.mp4', self.to_draw)\n",
    "\n",
    "    def get_frame(self,t):\n",
    "        b = np.zeros((self.grid_size,self.grid_size,3))+128\n",
    "        b[self.board>0,0] = 256\n",
    "        b[self.board < 0, 2] = 256\n",
    "        b[self.x,self.y,:]=256\n",
    "        b[-2:,:,:]=0\n",
    "        b[:,-2:,:]=0\n",
    "        b[:2,:,:]=0\n",
    "        b[:,:2,:]=0\n",
    "        \n",
    "        b =  cv2.resize(b, None, fx=self.scale, fy=self.scale, interpolation=cv2.INTER_NEAREST)\n",
    "\n",
    "        self.to_draw[t,:,:,:]=b\n",
    "\n",
    "\n",
    "    def act(self, action):\n",
    "        \"\"\"This function returns the new state, reward and decides if the\n",
    "        game ends.\"\"\"\n",
    "\n",
    "        self.get_frame(int(self.t))\n",
    "\n",
    "        self.position = np.zeros((self.grid_size, self.grid_size))\n",
    "\n",
    "        self.position[0:2,:]= -1\n",
    "        self.position[:,0:2] = -1\n",
    "        self.position[-2:, :] = -1\n",
    "        self.position[-2:, :] = -1\n",
    "\n",
    "        self.position[self.x, self.y] = 1\n",
    "        if action == 0: ## go right\n",
    "            if self.x == self.grid_size-3:\n",
    "                self.x = self.x-1\n",
    "            else:\n",
    "                self.x = self.x + 1\n",
    "        elif action == 1: ##go left\n",
    "            if self.x == 2:\n",
    "                self.x = self.x+1\n",
    "            else:\n",
    "                self.x = self.x-1\n",
    "        elif action == 2: ## go up\n",
    "            if self.y == self.grid_size - 3:\n",
    "                self.y = self.y - 1\n",
    "            else:\n",
    "                self.y = self.y + 1\n",
    "        elif action == 3: ##go down\n",
    "            if self.y == 2:\n",
    "                self.y = self.y + 1\n",
    "            else:\n",
    "                self.y = self.y - 1\n",
    "        else:\n",
    "            RuntimeError('Error: action not recognized')\n",
    "\n",
    "        self.t = self.t + 1 #time\n",
    "        reward = self.board[self.x, self.y]\n",
    "        self.board[self.x, self.y] = 0 #once poison or cheese is eaten it can't be eaten again\n",
    "        game_over = self.t > self.max_time\n",
    "        # state : both the board and the position which may change at each step\n",
    "        state = np.concatenate((self.board.reshape(self.grid_size, self.grid_size,1),\n",
    "                        self.position.reshape(self.grid_size, self.grid_size,1)),axis=2)\n",
    "        # the rat only knows this (limited visibility)\n",
    "        state = state[self.x-2:self.x+3,self.y-2:self.y+3,:]\n",
    "\n",
    "        return state, reward, game_over\n",
    "\n",
    "    def reset(self):\n",
    "        \"\"\"This function resets the game and returns the initial state\"\"\"\n",
    "        \n",
    "        # random initial position\n",
    "        self.x = np.random.randint(3, self.grid_size-3, size=1)[0]\n",
    "        self.y = np.random.randint(3, self.grid_size-3, size=1)[0]\n",
    "\n",
    "        \n",
    "        # more bonus if higher temperature\n",
    "        bonus = 0.5*np.random.binomial(1,self.temperature,size=self.grid_size**2)\n",
    "        bonus = bonus.reshape(self.grid_size,self.grid_size)\n",
    "        \n",
    "        # more malus if higher temperature\n",
    "        malus = -1.0*np.random.binomial(1,self.temperature,size=self.grid_size**2)\n",
    "        malus = malus.reshape(self.grid_size, self.grid_size)\n",
    "\n",
    "        self.to_draw = np.zeros((self.max_time+2, self.grid_size*self.scale, self.grid_size*self.scale, 3))\n",
    "\n",
    "        # if both malus and bonus --> only bonus\n",
    "        malus[bonus>0]=0\n",
    "\n",
    "        self.board = bonus + malus\n",
    "\n",
    "        self.position = np.zeros((self.grid_size, self.grid_size))\n",
    "        self.position[0:2,:]= -1\n",
    "        self.position[:,0:2] = -1\n",
    "        self.position[-2:, :] = -1\n",
    "        self.position[-2:, :] = -1\n",
    "        self.board[self.x,self.y] = 0\n",
    "        self.t = 0\n",
    "\n",
    "        state = np.concatenate((\n",
    "                               self.board.reshape(self.grid_size, self.grid_size,1),\n",
    "                        self.position.reshape(self.grid_size, self.grid_size,1)),axis=2)\n",
    "\n",
    "        state = state[self.x - 2:self.x + 3, self.y - 2:self.y + 3, :]\n",
    "        return state"
   ]
  },
  {
   "cell_type": "markdown",
   "metadata": {
    "colab_type": "text",
    "id": "z71BQK28TtB6"
   },
   "source": [
    "The following elements are important because they correspond to the hyper parameters for this project:"
   ]
  },
  {
   "cell_type": "code",
   "execution_count": 0,
   "metadata": {
    "colab": {},
    "colab_type": "code",
    "id": "mPAd1BmGTtB8"
   },
   "outputs": [],
   "source": [
    "# parameters\n",
    "size = 13\n",
    "T=200\n",
    "temperature=0.3\n",
    "epochs_train=30 # set small when debugging \n",
    "epochs_test=30 # set small when debugging \n",
    "\n",
    "# display videos\n",
    "def display_videos(name):\n",
    "    video = io.open(name, 'r+b').read()\n",
    "    encoded = base64.b64encode(video)\n",
    "    return '''<video alt=\"test\" controls>\n",
    "                <source src=\"data:video/mp4;base64,{0}\" type=\"video/mp4\" />\n",
    "             </video>'''.format(encoded.decode('ascii'))"
   ]
  },
  {
   "cell_type": "markdown",
   "metadata": {
    "colab_type": "text",
    "id": "521R7cK9TtCB"
   },
   "source": [
    "__Question 2__ Explain the use of the arrays ```position``` and ```board```.\n",
    "\n",
    "__Answer__: The arrays position and board represent the current position of the rat, and the board configuration at a given moment. Both arrays have two dimensions (we are considering a game in 2D), and \n",
    "- $position[i, j]$ is equal to 1 if the rat is a the position $(i,j)$, 0 if not, and -1 if this position is outside of the island. \n",
    "- $board[i, j]$ is equal to 0.5 if there is cheese at the position $(i,j)$, 0 if there is nothing (or if the cheese or the poison has already been eaten), and -1 if there is poison.\n",
    "\n",
    "The two arrays put together represent the current state of the game."
   ]
  },
  {
   "cell_type": "markdown",
   "metadata": {
    "colab_type": "text",
    "id": "6Jb_jwe7TtCE"
   },
   "source": [
    "## Random Agent"
   ]
  },
  {
   "cell_type": "markdown",
   "metadata": {
    "colab_type": "text",
    "id": "-4Bc8YqbTtCF"
   },
   "source": [
    "***\n",
    "__Question 3__ Implement a random Agent (only ```learned_act``` needs to be implemented):\n",
    "\n",
    "__Answer__ : The random agent randomly selects one action among all possible actions (here according to a uniform distribution)"
   ]
  },
  {
   "cell_type": "code",
   "execution_count": 0,
   "metadata": {
    "colab": {},
    "colab_type": "code",
    "id": "1-IsVPf6TtCG"
   },
   "outputs": [],
   "source": [
    "class RandomAgent(Agent):\n",
    "    def __init__(self):\n",
    "        super(RandomAgent, self).__init__()\n",
    "        pass\n",
    "\n",
    "    def learned_act(self, s):\n",
    "        # Randomly select an action among the n_action actions possible\n",
    "        return np.random.randint(0, self.n_action)"
   ]
  },
  {
   "cell_type": "markdown",
   "metadata": {
    "colab_type": "text",
    "id": "xJScB-ktTtCL"
   },
   "source": [
    "***\n",
    "***\n",
    "__Question 4__ Visualize the game moves. You need to fill in the following function for the evaluation:"
   ]
  },
  {
   "cell_type": "code",
   "execution_count": 0,
   "metadata": {
    "colab": {},
    "colab_type": "code",
    "id": "WON1z3qOTtCM"
   },
   "outputs": [],
   "source": [
    "def test(agent,env,epochs,prefix='',train=False):\n",
    "    # Number of won games\n",
    "    score = 0\n",
    "        \n",
    "    for e in range(epochs):\n",
    "        \n",
    "        # initialization\n",
    "        \n",
    "        # At each epoch, we restart to a fresh game and get the initial state\n",
    "        state = env.reset()\n",
    "        # This assumes that the games will end\n",
    "        game_over = False\n",
    "\n",
    "        win = 0\n",
    "        lose = 0\n",
    "\n",
    "        while not game_over:\n",
    "            # The agent performs an action\n",
    "            action = agent.act(state)\n",
    "\n",
    "            # Apply an action to the environment, get the next state, the reward\n",
    "            # and if the games end\n",
    "            prev_state = state\n",
    "            state, reward, game_over = env.act(action)\n",
    "\n",
    "            # Update the counters\n",
    "            if reward > 0:\n",
    "                win = win + reward\n",
    "            if reward < 0:\n",
    "                lose = lose -reward\n",
    "          \n",
    "#             # Save as a mp4\n",
    "            env.draw(prefix+str(e))\n",
    "\n",
    "            # Update stats\n",
    "            score = score + win-lose\n",
    "\n",
    "        print(\"Win/lose count {}/{}. Average score ({})\"\n",
    "                  .format(win, lose, score/(1+e)))\n",
    "    print('Final score: '+str(score/epochs))"
   ]
  },
  {
   "cell_type": "code",
   "execution_count": 86,
   "metadata": {
    "colab": {
     "base_uri": "https://localhost:8080/",
     "height": 811
    },
    "colab_type": "code",
    "id": "XSrbCwjcTtCQ",
    "outputId": "d92cdd08-cf6f-43b0-a327-fce714932db9"
   },
   "outputs": [
    {
     "name": "stdout",
     "output_type": "stream",
     "text": [
      "Win/lose count 11.5/7.0. Average score (736.5)\n",
      "Win/lose count 8.5/16.0. Average score (-65.5)\n",
      "Win/lose count 6.0/22.0. Average score (-711.5)\n",
      "Win/lose count 13.0/15.0. Average score (-718.875)\n",
      "Win/lose count 5.5/13.0. Average score (-772.8)\n",
      "Win/lose count 7.5/16.0. Average score (-840.1666666666666)\n",
      "Win/lose count 14.5/12.0. Average score (-650.3571428571429)\n",
      "Win/lose count 11.0/13.0. Average score (-577.9375)\n",
      "Win/lose count 7.0/13.0. Average score (-585.3888888888889)\n",
      "Win/lose count 9.0/17.0. Average score (-645.8)\n",
      "Win/lose count 11.5/7.0. Average score (-554.5454545454545)\n",
      "Win/lose count 13.0/11.0. Average score (-478.25)\n",
      "Win/lose count 8.5/10.0. Average score (-452.7307692307692)\n",
      "Win/lose count 11.0/17.0. Average score (-498.67857142857144)\n",
      "Win/lose count 11.5/11.0. Average score (-461.96666666666664)\n",
      "Win/lose count 5.5/5.0. Average score (-421.625)\n",
      "Win/lose count 10.5/14.0. Average score (-426.3529411764706)\n",
      "Win/lose count 10.0/12.0. Average score (-416.8888888888889)\n",
      "Win/lose count 7.5/9.0. Average score (-393.3157894736842)\n",
      "Win/lose count 9.0/11.0. Average score (-390.625)\n",
      "Win/lose count 11.0/9.0. Average score (-371.4047619047619)\n",
      "Win/lose count 14.0/15.0. Average score (-360.5681818181818)\n",
      "Win/lose count 10.0/16.0. Average score (-389.04347826086956)\n",
      "Win/lose count 6.0/17.0. Average score (-418.375)\n",
      "Win/lose count 12.0/15.0. Average score (-417.98)\n",
      "Win/lose count 9.5/18.0. Average score (-446.78846153846155)\n",
      "Win/lose count 8.0/16.0. Average score (-463.6666666666667)\n",
      "Win/lose count 10.0/20.0. Average score (-488.9642857142857)\n",
      "Win/lose count 7.5/16.0. Average score (-520.6379310344828)\n",
      "Win/lose count 9.0/15.0. Average score (-523.2333333333333)\n",
      "Final score: -523.2333333333333\n"
     ]
    },
    {
     "data": {
      "text/html": [
       "<video alt=\"test\" controls>\n",
       "                <source src=\"data:video/mp4;base64,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\" type=\"video/mp4\" />\n",
       "             </video>"
      ],
      "text/plain": [
       "<IPython.core.display.HTML object>"
      ]
     },
     "execution_count": 86,
     "metadata": {
      "tags": []
     },
     "output_type": "execute_result"
    }
   ],
   "source": [
    "# Initialize the game\n",
    "env = Environment(grid_size=size, max_time=T,temperature=temperature)\n",
    "\n",
    "# Initialize the agent!\n",
    "agent = RandomAgent()\n",
    "\n",
    "test(agent,env,epochs_test,prefix='random')\n",
    "HTML(display_videos('random0.mp4'))"
   ]
  },
  {
   "cell_type": "markdown",
   "metadata": {
    "colab_type": "text",
    "id": "RayQkfsXTtCW"
   },
   "source": [
    "***\n",
    "## DQN"
   ]
  },
  {
   "cell_type": "markdown",
   "metadata": {
    "colab_type": "text",
    "id": "7hfIb3F4TtCX"
   },
   "source": [
    "Let us assume here that $T=\\infty$.\n",
    "\n",
    "***\n",
    "__Question 5__ \n",
    "\n",
    "__Question:__ Let $\\pi$ be a policy, show that:\n",
    "\n",
    "\\begin{equation*}\n",
    "Q^{\\pi}(s,a)=E_{(s',a')\\sim p(.|s,a)}[r(s,a)+\\gamma Q^{\\pi}(s',a')]\n",
    "\\end{equation*}\n",
    "\n",
    "__Answer__ (I neglected the indices of the expectation function)\n",
    "Let's show that $Q^{\\pi}$ verifies the Bellman equation.\n",
    "By splitting the sum between $t=0$ and $t \\ge 1$ :\n",
    "\\begin{equation*}\n",
    "Q^{\\pi}(s,a) = E[ \\sum_{t=0}^{\\infty} \\gamma^t r_{t}|s_0 = s, a_0 = a] = E[ r(s,a) + \\sum_{t=1}^{\\infty} \\gamma^t r_{t}|s_0 = s, a_0 = a]\n",
    "\\end{equation*}\n",
    "\n",
    "Then, we do a change of index, take $\\gamma$ out of the expectation, and take $r(s,a)$ out using the conditionnig. \n",
    "\\begin{equation*}\n",
    "Q^{\\pi}(s,a) =  r(s,a) + \\gamma E[E[\\sum_{t=0}^{\\infty}[\\gamma^t r_{t+1}|s_{1}=s',a_{1}=a']|s_0 = s, a_0 = a]\n",
    "\\end{equation*}\n",
    "Then, we use the definition of the expectation, and the Markov property to remove $s_0 = s$ and $a_0 = a$ from the expectation. \n",
    "\\begin{equation*}\n",
    "Q^{\\pi}(s,a) =  r(s,a) + \\gamma \\sum_{(s',a')}(p(s_{1}=s',a_{1}=a' |s_0 = s, a_0 = a )[E[\\sum_{t=0}^{\\infty}\\gamma^t r_{t+1}|s_{1}=s',a_{1}=a']\n",
    "\\end{equation*}\n",
    "Then, we use the definition of the Q-function :\n",
    "\\begin{equation*}\n",
    "Q^{\\pi}(s,a) =  r(s,a) + \\gamma\\sum_{(s',a')}(p(s_{1}=s',a_{1}=a' |s_0 = s, a_0 = a )[Q^{\\pi}(s',a')]\n",
    "\\end{equation*}\n",
    "Thus, in fine we obtain : \n",
    "\\begin{equation*}\n",
    "Q^{\\pi}(s,a) = E[ \\sum_{t=0}^{\\infty} \\gamma^t r_{t}|s_0 = s, a_0 = a] = E[ r(s,a) + \\sum_{t=1}^{\\infty} \\gamma^t r_{t}|s_0 = s, a_0 = a]\n",
    "\\end{equation*}\n",
    "\n",
    "\n",
    "__Question :__\n",
    "Then, show that for the optimal policy $\\pi^*$ (we assume its existence), the following holds: \n",
    "\n",
    "\\begin{equation*}\n",
    "Q^{*}(s,a)=E_{s'\\sim \\pi^*(.|s,a)}[r(s,a)+\\gamma\\max_{a'}Q^{*}(s',a')].\n",
    "\\end{equation*}\n",
    "\n",
    "__Answer__ \n",
    "By definition : \n",
    "\\begin{equation*}\n",
    "Q^{*}(s,a) = \\max_{\\pi}E_{(s',a')\\sim p(.|s,a)}[r(s,a)+\\gamma Q^{\\pi}(s',a')]\n",
    "\\end{equation*}\n",
    "Then we can use the Bellman equation (prooved just above) and get :\n",
    "\\begin{equation*}\n",
    "Q^{*}(s,a) = \\max_{\\pi}[r(s,a) + \\gamma \\sum_{(s',a')}(p(s_{1}=s',a_{1}=a' |s_0 = s, a_0 = a )Q^{\\pi}(s',a')]\n",
    "\\end{equation*}\n",
    "Then, we use the fact that any policy $\\pi$ can be split into a first action a' and a policy $\\pi'$ for the remaining steps. \n",
    "\\begin{equation*}\n",
    "Q^{*}(s,a) = r(s,a) + \\gamma \\sum_{s'}(p(s_{1}=s'|s_0 = s, a_0 = a )\\max_{(a',\\pi')} Q^{\\pi'}(s',a')\n",
    "\\end{equation*}\n",
    "Then we split the max between $\\pi'$ and $a'$.\n",
    "\\begin{equation*}\n",
    "Q^{*}(s,a) = r(s,a) + \\gamma \\sum(p(s_{t+1}=s' |s_t = s, a_t = a )\\max_{a'} \\max_{\\pi'}Q^{\\pi'}(s',a')\n",
    "\\end{equation*}\n",
    "Then we use the definition of $Q^{*}$\n",
    "\\begin{equation*}\n",
    "Q^{*}(s,a) = r(s,a) + \\gamma \\sum(p(s_{t+1}=s' |s_t = s, a_t = a )\\max_{a'} Q^{*}(s',a')\n",
    "\\end{equation*}\n",
    "Thus, we get :\n",
    "\\begin{equation*}\n",
    "Q^{*}(s,a) = E_{s'\\sim \\pi^*(.|s,a)}[r(s,a)+\\gamma\\max_{a'}Q^{*}(s',a')]\n",
    "\\end{equation*}\n",
    "\n",
    "__Question :__\n",
    "Finally, deduce that a plausible objective is:\n",
    "\\begin{equation*}\n",
    "\\mathcal{L}(\\theta)=E_{s' \\sim \\pi^*(.|s,a)}\\Vert r+\\gamma\\max\\max_{a'}Q(s',a',\\theta)-Q(s,a,\\theta)\\Vert^{2}.\n",
    "\\end{equation*}\n",
    "\n",
    "__Answer__ \n",
    "This is a plausible objective, because the loss is minimal for $Q^{*}$ (its value is 0 by the above equation), and strictly positive for any non-optimal policy ($\\pi^{*}$ is not necessarily unique)."
   ]
  },
  {
   "cell_type": "markdown",
   "metadata": {
    "colab_type": "text",
    "id": "Q3pE_gs0TtCa"
   },
   "source": [
    "***\n",
    "The DQN-learning algorithm relies on these derivations to train the parameters $\\theta$ of a Deep Neural Network:\n",
    "\n",
    "1. At the state $s_t$, select the action $a_t$ with best reward using $Q_t$ and store the results;\n",
    "\n",
    "2. Obtain the new state $s_{t+1}$ from the environment $p$;\n",
    "\n",
    "3. Store $(s_t,a_t,s_{t+1})$;\n",
    "\n",
    "4. Obtain $Q_{t+1}$ by minimizing  $\\mathcal{L}$ from a recovered batch from the previously stored results.\n",
    "\n",
    "***\n",
    "__Question 6__ Implement the class ```Memory``` that stores moves (in a replay buffer) via ```remember``` and provides a ```random_access``` to these. Specify a maximum memory size to avoid side effects. You can for example use a ```list()``` and set by default ```max_memory=100```."
   ]
  },
  {
   "cell_type": "code",
   "execution_count": 0,
   "metadata": {
    "colab": {},
    "colab_type": "code",
    "id": "xWVELaH8TtCb"
   },
   "outputs": [],
   "source": [
    "class Memory(object):\n",
    "    def __init__(self, max_memory=100):\n",
    "        self.max_memory = max_memory\n",
    "        self.memory = list()\n",
    "\n",
    "    def remember(self, m):\n",
    "        if len(self.memory)<self.max_memory:\n",
    "            self.memory.append(m)\n",
    "\n",
    "    def random_access(self):\n",
    "        random_index=np.random.randint(0,len(self.memory))\n",
    "        return self.memory[random_index]"
   ]
  },
  {
   "cell_type": "markdown",
   "metadata": {
    "colab_type": "text",
    "id": "Gvole_g0TtCf"
   },
   "source": [
    "***\n",
    "The pipeline we will use for training is given below:"
   ]
  },
  {
   "cell_type": "code",
   "execution_count": 0,
   "metadata": {
    "colab": {},
    "colab_type": "code",
    "id": "ItmzLtuxTtCg"
   },
   "outputs": [],
   "source": [
    "def train(agent,env,epoch,prefix=''):\n",
    "    # Number of won games\n",
    "    score = 0\n",
    "    loss = 0\n",
    "\n",
    "    for e in range(epoch):\n",
    "        # At each epoch, we restart to a fresh game and get the initial state\n",
    "        state = env.reset()\n",
    "        # This assumes that the games will terminate\n",
    "        game_over = False\n",
    "\n",
    "        win = 0\n",
    "        lose = 0\n",
    "\n",
    "        while not game_over:\n",
    "            # The agent performs an action\n",
    "            action = agent.act(state)\n",
    "\n",
    "            # Apply an action to the environment, get the next state, the reward\n",
    "            # and if the games end\n",
    "            prev_state = state\n",
    "            state, reward, game_over = env.act(action)\n",
    "\n",
    "            # Update the counters\n",
    "            if reward > 0:\n",
    "                win = win + reward\n",
    "            if reward < 0:\n",
    "                lose = lose -reward\n",
    "\n",
    "            # Apply the reinforcement strategy\n",
    "            loss = agent.reinforce(prev_state, state,  action, reward, game_over)\n",
    "\n",
    "        # Save as a mp4\n",
    "        if e % 10 == 0:\n",
    "            env.draw(prefix+str(e))\n",
    "\n",
    "        # Update stats\n",
    "        score += win-lose\n",
    "\n",
    "        print(\"Epoch {:03d}/{:03d} | Loss {:.4f} | Win/lose count {}/{} ({})\"\n",
    "              .format(e, epoch, loss, win, lose, win-lose))\n",
    "        agent.save(name_weights=prefix+'model.h5',name_model=prefix+'model.json')"
   ]
  },
  {
   "cell_type": "markdown",
   "metadata": {
    "colab_type": "text",
    "id": "dn-Ea0SCTtCk"
   },
   "source": [
    "***\n",
    "__Question 7__ Implement the DQN training algorithm using a cascade of fully connected layers. You can use different learning rate, batch size or memory size parameters. In particular, the loss might oscillate while the player will start to win the games. You have to find a good criterium."
   ]
  },
  {
   "cell_type": "code",
   "execution_count": 0,
   "metadata": {
    "colab": {},
    "colab_type": "code",
    "id": "fQ-7Ot7VTtCm"
   },
   "outputs": [],
   "source": [
    "class DQN(Agent):\n",
    "    def __init__(self, grid_size,  epsilon = 0.1, memory_size=100, batch_size = 16,n_state=2):\n",
    "        super(DQN, self).__init__(epsilon = epsilon)\n",
    "\n",
    "        # Discount for Q learning\n",
    "        self.discount = 0.99\n",
    "        \n",
    "        self.grid_size = grid_size\n",
    "        \n",
    "        # number of state\n",
    "        self.n_state = n_state\n",
    "\n",
    "        # Memory\n",
    "        self.memory = Memory(memory_size)\n",
    "        \n",
    "        # Batch size when learning\n",
    "        self.batch_size = batch_size\n",
    "\n",
    "    def learned_act(self, s):#mettre reseau de neurone ici (clement)\n",
    "        d1,d2,d3 = s.shape\n",
    "        pred = self.model.predict(s.reshape((1,d1,d2,d3)))\n",
    "        return np.argmax(pred)\n",
    "\n",
    "    def reinforce(self, s_, n_s_, a_, r_, game_over_):\n",
    "        # Two steps: first memorize the states, second learn from the pool\n",
    "\n",
    "        # remembers only if self.memory is not already at the memory limit\n",
    "        self.memory.remember(m=[s_, n_s_, a_, r_, game_over_])\n",
    "        \n",
    "        # initialize\n",
    "        input_states = np.zeros((self.batch_size, 5,5,self.n_state))\n",
    "        target_q = np.zeros((self.batch_size, 4))\n",
    "        \n",
    "        d1,d2,d3=s_.shape #always the same shape\n",
    "        \n",
    "        for i in range(self.batch_size):\n",
    "            # draw a sample\n",
    "            s_sample, n_s_sample, a_sample, r_sample, game_over_sample = self.memory.random_access()\n",
    "            \n",
    "            # update the input state\n",
    "            input_states[i,:,:,:] = s_sample\n",
    "            \n",
    "            # update the target q function\n",
    "            target_q[i,:] = self.model.predict(s_sample.reshape(1,d1,d2,d3))\n",
    "\n",
    "\n",
    "            if game_over_:\n",
    "                target_q[i, a_sample] = r_sample\n",
    "                \n",
    "            else:\n",
    "                target_q[i, a_sample] = r_sample + (self.discount*np.max(self.model.predict(n_s_sample.reshape((1,d1,d2,d3)))))\n",
    "                 \n",
    "                ######## FILL IN\n",
    "                \n",
    "        ######## FILL IN\n",
    "        # HINT: Clip the target to avoid exploiding gradients.. -- clipping is a bit tighter\n",
    "        target_q = np.clip(target_q, -3, 3)\n",
    "\n",
    "        #define the loss\n",
    "        l = self.model.train_on_batch(input_states, target_q)\n",
    "\n",
    "\n",
    "        return l\n",
    "\n",
    "    def save(self,name_weights='model.h5',name_model='model.json'):\n",
    "        self.model.save_weights(name_weights, overwrite=True)\n",
    "        with open(name_model, \"w\") as outfile:\n",
    "            json.dump(self.model.to_json(), outfile)\n",
    "            \n",
    "    def load(self,name_weights='model.h5',name_model='model.json'):\n",
    "        with open(name_model, \"r\") as jfile:\n",
    "            model = model_from_json(json.load(jfile))\n",
    "        model.load_weights(name_weights)\n",
    "        # model.compile(\"sgd\", \"mse\")\n",
    "        # Use Adam optimizer instead\n",
    "        model.compile(\"Adam\", \"mse\")\n",
    "        self.model = model\n",
    "\n",
    "            \n",
    "class DQN_FC(DQN):\n",
    "    def __init__(self, *args, lr=0.1,**kwargs):\n",
    "        super(DQN_FC, self).__init__( *args,**kwargs)\n",
    "        \n",
    "        # NN Model : fully connected\n",
    "        # the input shape is corresponds to the neighborhood of 2 around the rate\n",
    "        model = Sequential()\n",
    "        model.add(Dense(40,activation ='relu', input_shape=(5,5,self.n_state)))\n",
    "        model.add(Dense(20,activation ='relu'))\n",
    "        model.add(Flatten())\n",
    "        # output \n",
    "        model.add(Dense(4))\n",
    "        # Use Adam optimizer instead\n",
    "        model.compile(Adam(lr=lr), \"mse\") \n",
    "        # model.compile(sgd(lr=lr, decay=1e-4, momentum=0.0), \"mse\")\n",
    "        self.model = model\n",
    "        "
   ]
  },
  {
   "cell_type": "code",
   "execution_count": 12,
   "metadata": {
    "colab": {
     "base_uri": "https://localhost:8080/",
     "height": 1000
    },
    "colab_type": "code",
    "id": "7DTEEna5TtCt",
    "outputId": "3f7b0ba6-e953-47d1-97d8-0ff09cbf5ada"
   },
   "outputs": [
    {
     "name": "stdout",
     "output_type": "stream",
     "text": [
      "WARNING:tensorflow:From /usr/local/lib/python3.6/dist-packages/keras/backend/tensorflow_backend.py:66: The name tf.get_default_graph is deprecated. Please use tf.compat.v1.get_default_graph instead.\n",
      "\n",
      "WARNING:tensorflow:From /usr/local/lib/python3.6/dist-packages/keras/backend/tensorflow_backend.py:541: The name tf.placeholder is deprecated. Please use tf.compat.v1.placeholder instead.\n",
      "\n",
      "WARNING:tensorflow:From /usr/local/lib/python3.6/dist-packages/keras/backend/tensorflow_backend.py:4432: The name tf.random_uniform is deprecated. Please use tf.random.uniform instead.\n",
      "\n",
      "WARNING:tensorflow:From /usr/local/lib/python3.6/dist-packages/keras/optimizers.py:793: The name tf.train.Optimizer is deprecated. Please use tf.compat.v1.train.Optimizer instead.\n",
      "\n",
      "WARNING:tensorflow:From /usr/local/lib/python3.6/dist-packages/keras/backend/tensorflow_backend.py:3005: The name tf.Session is deprecated. Please use tf.compat.v1.Session instead.\n",
      "\n",
      "WARNING:tensorflow:From /usr/local/lib/python3.6/dist-packages/keras/backend/tensorflow_backend.py:190: The name tf.get_default_session is deprecated. Please use tf.compat.v1.get_default_session instead.\n",
      "\n",
      "WARNING:tensorflow:From /usr/local/lib/python3.6/dist-packages/keras/backend/tensorflow_backend.py:197: The name tf.ConfigProto is deprecated. Please use tf.compat.v1.ConfigProto instead.\n",
      "\n",
      "WARNING:tensorflow:From /usr/local/lib/python3.6/dist-packages/keras/backend/tensorflow_backend.py:207: The name tf.global_variables is deprecated. Please use tf.compat.v1.global_variables instead.\n",
      "\n",
      "WARNING:tensorflow:From /usr/local/lib/python3.6/dist-packages/keras/backend/tensorflow_backend.py:216: The name tf.is_variable_initialized is deprecated. Please use tf.compat.v1.is_variable_initialized instead.\n",
      "\n",
      "WARNING:tensorflow:From /usr/local/lib/python3.6/dist-packages/keras/backend/tensorflow_backend.py:223: The name tf.variables_initializer is deprecated. Please use tf.compat.v1.variables_initializer instead.\n",
      "\n",
      "WARNING:tensorflow:From /usr/local/lib/python3.6/dist-packages/keras/backend/tensorflow_backend.py:1033: The name tf.assign_add is deprecated. Please use tf.compat.v1.assign_add instead.\n",
      "\n",
      "WARNING:tensorflow:From /usr/local/lib/python3.6/dist-packages/keras/backend/tensorflow_backend.py:1020: The name tf.assign is deprecated. Please use tf.compat.v1.assign instead.\n",
      "\n",
      "Epoch 000/030 | Loss 2.0752 | Win/lose count 4.5/7.0 (-2.5)\n",
      "Epoch 001/030 | Loss 1.5819 | Win/lose count 7.5/13.0 (-5.5)\n",
      "Epoch 002/030 | Loss 1.8955 | Win/lose count 19.0/18.0 (1.0)\n",
      "Epoch 003/030 | Loss 1.9300 | Win/lose count 13.5/20.0 (-6.5)\n",
      "Epoch 004/030 | Loss 1.5653 | Win/lose count 9.5/20.0 (-10.5)\n",
      "Epoch 005/030 | Loss 1.4116 | Win/lose count 9.0/10.0 (-1.0)\n",
      "Epoch 006/030 | Loss 1.5326 | Win/lose count 9.5/8.0 (1.5)\n",
      "Epoch 007/030 | Loss 1.5177 | Win/lose count 10.5/16.0 (-5.5)\n",
      "Epoch 008/030 | Loss 1.6663 | Win/lose count 11.0/9.0 (2.0)\n",
      "Epoch 009/030 | Loss 1.5778 | Win/lose count 12.5/24.0 (-11.5)\n",
      "Epoch 010/030 | Loss 1.4177 | Win/lose count 10.0/12.0 (-2.0)\n",
      "Epoch 011/030 | Loss 1.6218 | Win/lose count 7.0/15.0 (-8.0)\n",
      "Epoch 012/030 | Loss 1.6975 | Win/lose count 9.0/5.0 (4.0)\n",
      "Epoch 013/030 | Loss 1.8070 | Win/lose count 11.0/13.0 (-2.0)\n",
      "Epoch 014/030 | Loss 1.5585 | Win/lose count 16.0/15.0 (1.0)\n",
      "Epoch 015/030 | Loss 1.6398 | Win/lose count 15.5/14.0 (1.5)\n",
      "Epoch 016/030 | Loss 1.7312 | Win/lose count 11.5/15.0 (-3.5)\n",
      "Epoch 017/030 | Loss 1.4752 | Win/lose count 10.0/17.0 (-7.0)\n",
      "Epoch 018/030 | Loss 1.9956 | Win/lose count 12.5/19.0 (-6.5)\n",
      "Epoch 019/030 | Loss 1.6641 | Win/lose count 18.0/27.0 (-9.0)\n",
      "Epoch 020/030 | Loss 1.8486 | Win/lose count 13.0/18.0 (-5.0)\n",
      "Epoch 021/030 | Loss 1.7505 | Win/lose count 14.5/8.0 (6.5)\n",
      "Epoch 022/030 | Loss 1.7848 | Win/lose count 13.5/13.0 (0.5)\n",
      "Epoch 023/030 | Loss 1.0994 | Win/lose count 11.5/19.0 (-7.5)\n",
      "Epoch 024/030 | Loss 1.7975 | Win/lose count 12.5/18.0 (-5.5)\n",
      "Epoch 025/030 | Loss 1.5752 | Win/lose count 13.5/15.0 (-1.5)\n",
      "Epoch 026/030 | Loss 1.9475 | Win/lose count 13.5/18.0 (-4.5)\n",
      "Epoch 027/030 | Loss 1.8309 | Win/lose count 11.0/18.0 (-7.0)\n",
      "Epoch 028/030 | Loss 1.6474 | Win/lose count 16.5/18.0 (-1.5)\n",
      "Epoch 029/030 | Loss 1.2299 | Win/lose count 8.0/19.0 (-11.0)\n"
     ]
    },
    {
     "data": {
      "text/html": [
       "<video alt=\"test\" controls>\n",
       "                <source src=\"data:video/mp4;base64,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\" type=\"video/mp4\" />\n",
       "             </video>"
      ],
      "text/plain": [
       "<IPython.core.display.HTML object>"
      ]
     },
     "execution_count": 12,
     "metadata": {
      "tags": []
     },
     "output_type": "execute_result"
    }
   ],
   "source": [
    "env = Environment(grid_size=size, max_time=T, temperature=0.3)\n",
    "agent = DQN_FC(size, lr=.1, epsilon = 0.1, memory_size=2000, batch_size = 32) ## try different values\n",
    "train(agent, env, epochs_train, prefix='fc_train')\n",
    "HTML(display_videos('fc_train10.mp4'))"
   ]
  },
  {
   "cell_type": "code",
   "execution_count": 14,
   "metadata": {
    "colab": {
     "base_uri": "https://localhost:8080/",
     "height": 1000
    },
    "colab_type": "code",
    "id": "5SANjnLDaCkr",
    "outputId": "9c4e2acb-05aa-4d9c-f5f8-f90cf63c4ac5"
   },
   "outputs": [
    {
     "name": "stdout",
     "output_type": "stream",
     "text": [
      "WARNING:tensorflow:From /usr/local/lib/python3.6/dist-packages/keras/backend/tensorflow_backend.py:3005: The name tf.Session is deprecated. Please use tf.compat.v1.Session instead.\n",
      "\n",
      "WARNING:tensorflow:From /usr/local/lib/python3.6/dist-packages/keras/backend/tensorflow_backend.py:190: The name tf.get_default_session is deprecated. Please use tf.compat.v1.get_default_session instead.\n",
      "\n",
      "WARNING:tensorflow:From /usr/local/lib/python3.6/dist-packages/keras/backend/tensorflow_backend.py:197: The name tf.ConfigProto is deprecated. Please use tf.compat.v1.ConfigProto instead.\n",
      "\n",
      "WARNING:tensorflow:From /usr/local/lib/python3.6/dist-packages/keras/backend/tensorflow_backend.py:207: The name tf.global_variables is deprecated. Please use tf.compat.v1.global_variables instead.\n",
      "\n",
      "WARNING:tensorflow:From /usr/local/lib/python3.6/dist-packages/keras/backend/tensorflow_backend.py:216: The name tf.is_variable_initialized is deprecated. Please use tf.compat.v1.is_variable_initialized instead.\n",
      "\n",
      "WARNING:tensorflow:From /usr/local/lib/python3.6/dist-packages/keras/backend/tensorflow_backend.py:223: The name tf.variables_initializer is deprecated. Please use tf.compat.v1.variables_initializer instead.\n",
      "\n",
      "WARNING:tensorflow:From /usr/local/lib/python3.6/dist-packages/keras/backend/tensorflow_backend.py:1033: The name tf.assign_add is deprecated. Please use tf.compat.v1.assign_add instead.\n",
      "\n",
      "WARNING:tensorflow:From /usr/local/lib/python3.6/dist-packages/keras/backend/tensorflow_backend.py:1020: The name tf.assign is deprecated. Please use tf.compat.v1.assign instead.\n",
      "\n",
      "Epoch 000/030 | Loss 1.8939 | Win/lose count 11.5/11.0 (0.5)\n",
      "Epoch 001/030 | Loss 1.8663 | Win/lose count 11.0/9.0 (2.0)\n",
      "Epoch 002/030 | Loss 1.5209 | Win/lose count 8.0/12.0 (-4.0)\n",
      "Epoch 003/030 | Loss 1.7983 | Win/lose count 4.0/8.0 (-4.0)\n",
      "Epoch 004/030 | Loss 1.8718 | Win/lose count 9.5/19.0 (-9.5)\n",
      "Epoch 005/030 | Loss 1.7385 | Win/lose count 12.0/13.0 (-1.0)\n",
      "Epoch 006/030 | Loss 1.5121 | Win/lose count 10.0/9.0 (1.0)\n",
      "Epoch 007/030 | Loss 1.4845 | Win/lose count 9.0/16.0 (-7.0)\n",
      "Epoch 008/030 | Loss 1.3565 | Win/lose count 14.5/15.0 (-0.5)\n",
      "Epoch 009/030 | Loss 1.3540 | Win/lose count 12.0/20.0 (-8.0)\n",
      "Epoch 010/030 | Loss 1.5387 | Win/lose count 9.5/12.0 (-2.5)\n",
      "Epoch 011/030 | Loss 1.6704 | Win/lose count 12.5/13.0 (-0.5)\n",
      "Epoch 012/030 | Loss 1.7233 | Win/lose count 13.5/24.0 (-10.5)\n",
      "Epoch 013/030 | Loss 1.2503 | Win/lose count 17.0/18.0 (-1.0)\n",
      "Epoch 014/030 | Loss 1.3967 | Win/lose count 16.5/24.0 (-7.5)\n",
      "Epoch 015/030 | Loss 1.4531 | Win/lose count 12.0/12.0 (0.0)\n",
      "Epoch 016/030 | Loss 1.7106 | Win/lose count 10.5/24.0 (-13.5)\n",
      "Epoch 017/030 | Loss 1.8514 | Win/lose count 7.5/10.0 (-2.5)\n",
      "Epoch 018/030 | Loss 1.5842 | Win/lose count 6.0/13.0 (-7.0)\n",
      "Epoch 019/030 | Loss 1.2102 | Win/lose count 11.5/16.0 (-4.5)\n",
      "Epoch 020/030 | Loss 1.4660 | Win/lose count 8.0/11.0 (-3.0)\n",
      "Epoch 021/030 | Loss 1.9586 | Win/lose count 16.5/14.0 (2.5)\n",
      "Epoch 022/030 | Loss 1.8003 | Win/lose count 13.0/25.0 (-12.0)\n",
      "Epoch 023/030 | Loss 1.8724 | Win/lose count 14.0/20.0 (-6.0)\n",
      "Epoch 024/030 | Loss 1.5176 | Win/lose count 14.5/18.0 (-3.5)\n",
      "Epoch 025/030 | Loss 1.8273 | Win/lose count 9.0/21.0 (-12.0)\n",
      "Epoch 026/030 | Loss 1.7267 | Win/lose count 10.0/14.0 (-4.0)\n",
      "Epoch 027/030 | Loss 1.4841 | Win/lose count 11.0/11.0 (0.0)\n",
      "Epoch 028/030 | Loss 1.5159 | Win/lose count 12.5/19.0 (-6.5)\n",
      "Epoch 029/030 | Loss 2.0760 | Win/lose count 15.5/16.0 (-0.5)\n"
     ]
    },
    {
     "data": {
      "text/html": [
       "<video alt=\"test\" controls>\n",
       "                <source src=\"data:video/mp4;base64,AAAAIGZ0eXBpc29tAAACAGlzb21pc28yYXZjMW1wNDEAAAAIZnJlZQAAGKptZGF0AAACrQYF//+p3EXpvebZSLeWLNgg2SPu73gyNjQgLSBjb3JlIDE1MiByMjg1NCBlOWE1OTAzIC0gSC4yNjQvTVBFRy00IEFWQyBjb2RlYyAtIENvcHlsZWZ0IDIwMDMtMjAxNyAtIGh0dHA6Ly93d3cudmlkZW9sYW4ub3JnL3gyNjQuaHRtbCAtIG9wdGlvbnM6IGNhYmFjPTEgcmVmPTMgZGVibG9jaz0xOjA6MCBhbmFseXNlPTB4MToweDExMSBtZT1oZXggc3VibWU9NyBwc3k9MSBwc3lfcmQ9MS4wMDowLjAwIG1peGVkX3JlZj0xIG1lX3JhbmdlPTE2IGNocm9tYV9tZT0xIHRyZWxsaXM9MSA4eDhkY3Q9MCBjcW09MCBkZWFkem9uZT0yMSwxMSBmYXN0X3Bza2lwPTEgY2hyb21hX3FwX29mZnNldD00IHRocmVhZHM9MyBsb29rYWhlYWRfdGhyZWFkcz0xIHNsaWNlZF90aHJlYWRzPTAgbnI9MCBkZWNpbWF0ZT0xIGludGVybGFjZWQ9MCBibHVyYXlfY29tcGF0PTAgY29uc3RyYWluZWRfaW50cmE9MCBiZnJhbWVzPTMgYl9weXJhbWlkPTIgYl9hZGFwdD0xIGJfYmlhcz0wIGRpcmVjdD0xIHdlaWdodGI9MSBvcGVuX2dvcD0wIHdlaWdodHA9MiBrZXlpbnQ9MjUwIGtleWludF9taW49MjUgc2NlbmVjdXQ9NDAgaW50cmFfcmVmcmVzaD0wIHJjX2xvb2thaGVhZD00MCByYz1jcmYgbWJ0cmVlPTEgY3JmPTIzLjAgcWNvbXA9MC42MCBxcG1pbj0wIHFwbWF4PTY5IHFwc3RlcD00IGlwX3JhdGlvPTEuNDAgYXE9MToxLjAwAIAAAAL4ZYiEADf//vaH+BTZWBP+Wb/9DX/cj9uPrP1xYyEE31qvIejAGS+1H+b/rFFs6Z6UB/fgCJQAc24ZwpIoZ/8CmWxwvgUK/HEacX14Wn+DO2SLIzvUB7PoXnbMYh2lZg1SfoNDe1bHZu9EUNgNrYZCHPXPbgALLZI4NNrtHHPFfFzxT8gydoUA92rX9/DGXjIp/LZS/6huKEsdhUCd80dPe1AslsOcYfEOPSKjQ2PFTz2utGaBacLc0hxKU2KNrV5s3E/cXa2D8rhgcFGAa8j/JjzuOWnV+nszxhcEousTgl7lxdYRr043RTDNBs2cnNiwHIhdSj1iYYYdZ7LpHVJx9dN86FoSqmeQJjPHsO3wq4jV0UgKOB640PfFAvdDRPNhppnmQzRIMFnKx8RoBFD86O6Cy1GfQBUPFJAQT6W77EclPsOadfXbR748c+q4dER//rQWS0BPlGFwTrOn5D1KQt3HpT1WTu7prYBSpceKtok6eMITDPyjja9Ll18+4CvXkOVz/qBN1LbNQ/ejY6aIjpBpCR5AY3C/Ixqho4lXLaaOBduTzb/wSAkV685dikQwhLb8Azzhj/mYhGMmSeCdR3Jz/RU4vN/MUP8zPdAIX7z1jXVHlClnAlKt/kR65994Y1ED/5ulUYCukbegcFfoNpOlUk5q/TGWaQVh+FAMIlnGOPpgA+gwABRnxcWan0yseokp/rSxwqpbCe+SpMjQTMAFFfiMU7tdxM7kwa/uBikuqSJIyEuMkwqiIJh87VZMI+rxxasEi1kQI5XCwbRdEmwjpS3BckWbkuY1O+9ylBbJgp+iAZcvA24qDzr+7O/mcnIb7Focnb5ov1VlKTgERHQLQ+ulVlU6GSiW/ju3WDW9ZwiAhF7rJyClIzrjSHwpkkSrgA1D2WxNvIBr+KgNhLas23C8Sob8i2XCu1Awh6wyK70wq+7bEIWrUIN1weLKSLekU3gjoo9+fiJ/DmouFI49Jtew2LNuDOrciiAEVC59WfoAAAMCJwAAABRBmiFsQ7/+qZYAA9XtL+fJCmE+YAAAABBBmkU8IZMphDf//qeEAAEnAAAAC0GeY2pTwv8AALKAAAAAEAGegnRCvwAD7qG9l1X8W0EAAAAQAZ6EakK/AAPuob2K0fdjQQAAABlBmohJqEFomUwIb//+p4QABP/dTj/D6tybAAAAEkGepkURLCv/AAP4DAIBTAPEIQAAAA4BnsdqQr8AA/lfpHuhUwAAABxBmslJqEFsmUwId//+qZYAAnP0ugcPhagn9i0gAAAAHEGa7UnhClJlMCG//qeEAAT4Tks3TvHTwebSFcUAAAARQZ8LRTRML/8AAvytMfyCv+AAAAAPAZ8qdEK/AAPMXoDJLxCAAAAAEAGfLGpCvwAD+MweS5ny1YEAAAAnQZswSahBaJlMCG///qeEAAVr5CauZZV2q/wKYeFPgT1ctVev+jJtAAAAEkGfTkURLCv/AARXa4N4bLN1rQAAAA8Bn29qQr8ABFdiPJcz5ZMAAAApQZtzSahBbJlMCGf//p4QADO/CBy8yyue8fMsSwXzLJsHBQ/ONry28h4AAAASQZ+RRRUsK/8ACs2Qai/DY2BZAAAAEAGfsmpCvwAKzY8cr+3EP0AAAAAZQZu0SahBbJlMCGf//p4QAE94Mc/RgOzSNgAAAB1Bm9ZJ4QpSZTBRUsM//p4QAL7IbW/owIFHkF+QqwAAABABn/VqQr8AJ9Y8cr+3D/LAAAAAG0Gb90nhDomUwIZ//p4QASU4Rz+HPiBCf27jgQAAABdBmhhJ4Q8mUwIZ//6eEAHEKcc/S/uTWwAAABlBmjlJ4Q8mUwIb//6nhAC0+if6rfMfiEnAAAAAGUGaXEnhDyZTAhn//p4QBDfiH+CwBqDSvQUAAAASQZ56RRE8K/8A4j8DoSbrVweAAAAADgGem2pCvwDiBAs78Kr3AAAAGUGanUmoQWiZTAhn//6eEAHG9ffyJEfWEd0AAAAYQZq+SeEKUmUwIZ/+nhABJviH9shj6wl3AAAAGEGa30nhDomUwIZ//p4QAL/6+/kSI+sKPgAAABhBmuBJ4Q8mUwIZ//6eEAB5/X38iRH1hb0AAAAYQZsBSeEPJlMCGf/+nhAAT/3TfRUrNfI2AAAAGUGbIknhDyZTAhv//qeEAA0/sH+E4LdCrEEAAAAZQZtDSeEPJlMCG//+p4QACHfHT6jjQkPiwAAAABlBm2RJ4Q8mUwId//6plgAC26WVxml/bEzBAAAAJkGbh0nhDyZTAh3//qmWAAMZ7DfMsrVNV4FKJAvApmuXHrwfXsXBAAAAEkGfpUURPCv/AAT6y4N4bLN05QAAABABn8ZqQr8ABPrCPJcz5XaBAAAAF0Gby0moQWiZTAh3//6plgADKVIM0A6EAAAADkGf6UURLC//AAO1+7BgAAAAEAGeCHRCvwAFHtHeYJY2ntEAAAAQAZ4KakK/AAUdRomXQdPXqAAAAB5Bmg9JqEFsmUwIb//+p4QABifgMAmv88grVMhIuioAAAAQQZ4tRRUsL/8AA6CdRvYQeQAAAA8Bnkx0Qr8ABPowgMku44EAAAAQAZ5OakK/AAUelG80xVuKwQAAACpBmlJJqEFsmUwIb//+p4QADuesNzLKtsp+BSWgfwKZbRxsZPlD6kX+yjAAAAATQZ5wRRUsK/8ADEO1Nv8UNrlEoAAAABABnpFqQr8ADEO1HK/txDRBAAAAGkGak0moQWyZTAhv//6nhAAXP0T/VcBj8UfAAAAAK0GatknhClJlMCG//qeEAFa94y5zLK57x+BSpbPwKZ2BigXWL2NixJvbAIAAAAATQZ7URTRMK/8ARXaDUhodIIKpgQAAABABnvVqQr8ARXZ45X9uH49AAAAAHEGa+UmoQWiZTAhv//6nhACDfHT7VeWz4La196EAAAASQZ8XRREsK/8AbCGl3d/SK1xBAAAAEAGfOGpCvwBsCO3OtDC8ckAAAAAfQZs7SahBbJlMFEw3//6nhABUfdT74Z6F2tmKEfpygQAAABABn1pqQr8AQ2T5zrQwvJ+AAAAAGUGbXEnhClJlMCHf/qmWABqvaX87pCmEWzEAAAAfQZtgSeEOiZTAh3/+qZYAEgKRtiaJNf8PP6ZX+bONIQAAABFBn55FETwv/wAVmfXg15fAGgAAAA8Bn710Qr8AG6Sanqzv6MAAAAAQAZ+/akK/AB0GYPJcz5LdgQAAABNBm6RJqEFomUwId//+qZYAAJWAAAAADEGfwkURLC//AACygQAAABABn+F0Qr8AHLUN3Tsuy0qAAAAADwGf42pCvwActQ3YZ6s+WwAAABJBm+hJqEFsmUwIb//+p4QAAScAAAAMQZ4GRRUsL/8AALKBAAAAEAGeJXRCvwActQ3dOy7LSoEAAAAPAZ4nakK/ABy1Ddhnqz5bAAAAGkGaK0moQWyZTAhv//6nhAAj3x0+o40JDl3AAAAAEkGeSUUVLCv/AB0AXnOsnydLgQAAAA4BnmpqQr8AHQr6cDalkwAAABpBmmxJqEFsmUwId//+qZYAC8e+r67EG4qWkAAAABpBmpBJ4QpSZTAhv/6nhAAO57B/mrpoyMdd0QAAABBBnq5FNEwv/wAI7QEG+SohAAAAEAGezXRCvwAMQAhcB+UAGiEAAAAPAZ7PakK/AAfE1DoWjfLAAAAAEkGa1EmoQWiZTAhv//6nhAABJwAAAAxBnvJFESwv/wAAsoEAAAAQAZ8RdEK/AAUOyjvwAfdLwAAAABABnxNqQr8ABQ7KO9nj7peAAAAAHUGbFkmoQWyZTBRMM//+nhAAGJ9ff02ULl1s1dThAAAADwGfNWpCvwAFHbbpRpDzAQAAABhBmzdJ4QpSZTAhv/6nhAAD5ewevZnwRn8AAAAdQZtZSeEOiZTBTRMN//6nhAADz+wfzaQS2QZbZTkAAAAPAZ94akK/AAMkRfM2zI8dAAAAGEGbeknhDyZTAhv//qeEAAOj7B69mfBGlwAAABVBm55J4Q8mUwIZ//6eEAANj6+/pG4AAAASQZ+8RRE8L/8AAhvnl8RQsBPNAAAAEAGf23RCvwAC6JrRkh5On4EAAAAQAZ/dakK/AALpYR5LmfMPgAAAABlBm99JqEFomUwIZ//+nhAADh+uNvem+7FyAAAAGUGb4EnhClJlMCG//qeEAAO0Dwp1nT7sVoEAAAAZQZoBSeEOiZTAhv/+p4QAA8oPCnWdPuxRgAAAABlBmiJJ4Q8mUwId//6plgAB8x0/KaMfrWPBAAAAG0GaRknhDyZTAhv//qeEAAZF1apj/Vu32D9ifAAAABBBnmRFETwv/wADtp07/OwpAAAADwGeg3RCvwADTPJvPOOPgQAAABABnoVqQr8ABR7HluGza1CBAAAAEkGaikmoQWiZTAhv//6nhAABJwAAAAxBnqhFESwv/wAAsoAAAAAQAZ7HdEK/AAUOyjvwAfdLwAAAABABnslqQr8ABQ7KO9nj7peBAAAAGUGazUmoQWyZTAhn//6eEAAYn193ac3cX7wAAAASQZ7rRRUsK/8ABR2wBAKYB3LAAAAADgGfDGpCvwAFH5SrqdT1AAAAGUGbDkmoQWyZTAhn//6eEAAkpwjn8Oc32FMAAAAZQZsvSeEKUmUwIb/+p4QADnnGf6rfMfi44QAAAB5Bm1FJ4Q6JlMFNEwz//p4QAFj902MuXWxw3IA8FAgAAAAQAZ9wakK/ABJXmiZE0rPPQAAAABhBm3JJ4Q8mUwIb//6nhAAWP3U4/w+rbpsAAAAYQZuTSeEPJlMCG//+p4QAFa91OP8Pq26jAAAAHUGbtUnhDyZTBRE8N//+p4QAFR+NP4/mWaprcyKUAAAAEAGf1GpCvwAQ2T5zrQwvh4EAAAAbQZvXSeEPJlMFPDv//qmWAAar2l/XIJ2TdbrMAAAAEAGf9mpCvwAKy25FXgCglIEAAAAbQZv7SeEPJlMCHf/+qZYAAs3vq+9E1OoQbhDPAAAAEEGeGUURPC//AANMI3e4YcAAAAAQAZ44dEK/AAR11aMkt/tngQAAAA8BnjpqQr8ABFbWu77vxMAAAAASQZo/SahBaJlMCG///qeEAAEnAAAADEGeXUURLC//AACygQAAABABnnx0Qr8ABFhAHP60DpTAAAAAEAGefmpCvwAEVta7rIYdKYAAAAASQZpjSahBbJlMCGf//p4QAAR9AAAADEGegUUVLC//AACygAAAABABnqB0Qr8ABFhAHP60DpTBAAAAEAGeompCvwAEVta7rIYdKYAAAAAdQZqlSahBbJlMFEwz//6eEAAVivc1xz+bX199zzEAAAAPAZ7EakK/AAR3Z5bhs2tzAAAAGkGaxknhClJlMCGf/p4QACCnCOfw58QOH+KfAAAAF0Ga50nhDomUwIZ//p4QADNyGOfpf3O/AAAAGEGbCEnhDyZTAhn//p4QADO+vu7Tm7i6vAAAABdBmypJ4Q8mUwURPDP//p4QADE+vv6KtgAAABABn0lqQr8ACmW1thnq0C6BAAAAGEGbS0nhDyZTAhn//p4QADJ+/u7Tm7i63AAAABhBm2xJ4Q8mUwIZ//6eEAAxPr7u05u4uvwAAAAYQZuNSeEPJlMCGf/+nhAAL/6+7tObuLsdAAAAGEGbrknhDyZTAhv//qeEAAv/sHr2Z8EXLQAAABlBm89J4Q8mUwIb//6nhAALr8adBWsym6mBAAAAFkGb80nhDyZTAhv//qeEAAsfup+2W4AAAAAOQZ4RRRE8L/8ABphF4mAAAAAQAZ4wdEK/AAkSxbdOy7NAgQAAAA8BnjJqQr8ACRLFthnq0E8AAAAaQZo0SahBaJlMCG///qeEAAtnxp+5kUJDycAAAAAZQZpVSeEKUmUwId/+qZYAA6ntL+d0hTCgcQAAABZBmnlJ4Q6JlMCHf/6plgABioLK5O/wAAAADkGel0URPC//AAHP/fShAAAAEAGetnRCvwADwqG9l1X8X8EAAAAQAZ64akK/AAPCob2K0fdpgAAAABNBmr1JqEFomUwId//+qZYAAJWBAAAADEGe20URLC//AACygAAAABABnvp0Qr8ABfrKu6vx3j5BAAAAEAGe/GpCvwADwqG9itH3aYEAAAASQZrhSahBbJlMCG///qeEAAEnAAAADEGfH0UVLC//AACygAAAABABnz50Qr8AA8KhvZdV/F/BAAAAEAGfIGpCvwAF+Sti9XYc/sAAAAAfQZsjSahBbJlMFEw3//6nhAAE/9unmWWJkd92tLi7/QAAABABn0JqQr8AA/jMHkuZ8tWAAAAAJkGbR0nhClJlMCGf/p4QABSPeBtXApr6hXzLEsF8yybB07nu6no5AAAAEEGfZUU0TC//AAMkrTIKDSEAAAAPAZ+EdEK/AAP4XoDJLwaBAAAADwGfhmpCvwAEN2I8lzPlmwAAABhBm4hJqEFomUwIZ//+nhAAFPr3GCOuzsQAAAAYQZupSeEKUmUwIZ/+nhAAFYr3GhdN92BkAAAAGEGbyknhDomUwIZ//p4QABYa9xoXTfdgRQAAABdBm+tJ4Q8mUwIb//6nhAAFzxWjqobcawAAABhBmgxJ4Q8mUwIb//6nhAAF9dWkEIn+XGMAAAAYQZotSeEPJlMCHf/+qZYAAxUFlZxWnLfhAAAAG0GaUUnhDyZTAh3//qmWAATgo6IFmgO76MewCwAAABBBnm9FETwv/wAF0oEFKG4ZAAAADwGejnRCvwAFHtHeecaUgAAAABABnpBqQr8AB8WeEPGhrP2AAAAAGkGalEmoQWiZTAh3//6plgAE5+PP37INxV0xAAAAD0GeskURLCv/AAfEH/N9oAAAAA0BntNqQr8AB8bAoGuWAAAAHEGa2EmoQWyZTAh3//6plgADLe0v6/qtQshS6e8AAAAQQZ72RRUsL/8AA7X8PXXWQAAAAA8BnxV0Qr8ABR05QpNslosAAAAPAZ8XakK/AANMCxsDlXOBAAAAE0GbHEmoQWyZTAh3//6plgAAlYAAAAAMQZ86RRUsL/8AALKBAAAAEAGfWXRCvwADTPJujtviLoAAAAAPAZ9bakK/AANMCxolc80fAAAAEkGbQEmoQWyZTAhv//6nhAABJwAAAAxBn35FFSwv/wAAsoAAAAAQAZ+ddEK/AANM8m6O2+IugAAAAA8Bn59qQr8AA0wLGiVzzR8AAAASQZuESahBbJlMCGf//p4QAAR8AAAADEGfokUVLC//AACygQAAABABn8F0Qr8AA0zybo7b4i6AAAAADwGfw2pCvwADTAsaJXPNHwAAABlBm8VJqEFsmUwIZ//+nhAAF9kMc/hzm+y/AAAAHEGb50nhClJlMFFSwz/+nhAAOIU7W/yh/X33pUEAAAAQAZ4GakK/AAvztRyv7cQ2QQAAABtBmglL4QhDokRggoB/IB/YeAUTCv/+OEAAEXAAAAAkAZ4oakK/Aq9j7UHE3arDSSblqoYHLLW7zSodSLysk7wVx1ewAAALWG1vb3YAAABsbXZoZAAAAAAAAAAAAAAAAAAAA+gAAB+QAAEAAAEAAAAAAAAAAAAAAAABAAAAAAAAAAAAAAAAAAAAAQAAAAAAAAAAAAAAAAAAQAAAAAAAAAAAAAAAAAAAAAAAAAAAAAAAAAAAAAAAAAIAAAqCdHJhawAAAFx0a2hkAAAAAwAAAAAAAAAAAAAAAQAAAAAAAB+QAAAAAAAAAAAAAAAAAAAAAAABAAAAAAAAAAAAAAAAAAAAAQAAAAAAAAAAAAAAAAAAQAAAAAEQAAABEAAAAAAAJGVkdHMAAAAcZWxzdAAAAAAAAAABAAAfkAAABAAAAQAAAAAJ+m1kaWEAAAAgbWRoZAAAAAAAAAAAAAAAAAAAMgAAAZQAVcQAAAAAAC1oZGxyAAAAAAAAAAB2aWRlAAAAAAAAAAAAAAAAVmlkZW9IYW5kbGVyAAAACaVtaW5mAAAAFHZtaGQAAAABAAAAAAAAAAAAAAAkZGluZgAAABxkcmVmAAAAAAAAAAEAAAAMdXJsIAAAAAEAAAllc3RibAAAAJVzdHNkAAAAAAAAAAEAAACFYXZjMQAAAAAAAAABAAAAAAAAAAAAAAAAAAAAAAEQARAASAAAAEgAAAAAAAAAAQAAAAAAAAAAAAAAAAAAAAAAAAAAAAAAAAAAAAAAAAAAABj//wAAAC9hdmNDAfQADf/hABdn9AANkZsoIhHQgAAAAwCAAAAZB4oUywEABWjr48RIAAAAGHN0dHMAAAAAAAAAAQAAAMoAAAIAAAAAFHN0c3MAAAAAAAAAAQAAAAEAAAUwY3R0cwAAAAAAAACkAAAAAgAABAAAAAABAAAKAAAAAAEAAAQAAAAAAQAAAAAAAAABAAACAAAAAAEAAAgAAAAAAgAAAgAAAAABAAAEAAAAAAEAAAoAAAAAAQAABAAAAAABAAAAAAAAAAEAAAIAAAAAAQAACAAAAAACAAACAAAAAAEAAAgAAAAAAgAAAgAAAAABAAAEAAAAAAEAAAYAAAAAAQAAAgAAAAADAAAEAAAAAAEAAAgAAAAAAgAAAgAAAAAIAAAEAAAAAAEAAAgAAAAAAgAAAgAAAAABAAAKAAAAAAEAAAQAAAAAAQAAAAAAAAABAAACAAAAAAEAAAoAAAAAAQAABAAAAAABAAAAAAAAAAEAAAIAAAAAAQAACAAAAAACAAACAAAAAAEAAAQAAAAAAQAACAAAAAACAAACAAAAAAEAAAgAAAAAAgAAAgAAAAABAAAGAAAAAAEAAAIAAAAAAQAABAAAAAABAAAKAAAAAAEAAAQAAAAAAQAAAAAAAAABAAACAAAAAAEAAAoAAAAAAQAABAAAAAABAAAAAAAAAAEAAAIAAAAAAQAACgAAAAABAAAEAAAAAAEAAAAAAAAAAQAAAgAAAAABAAAIAAAAAAIAAAIAAAAAAQAABAAAAAABAAAKAAAAAAEAAAQAAAAAAQAAAAAAAAABAAACAAAAAAEAAAoAAAAAAQAABAAAAAABAAAAAAAAAAEAAAIAAAAAAQAABgAAAAABAAACAAAAAAEAAAQAAAAAAQAABgAAAAABAAACAAAAAAEAAAQAAAAAAQAACgAAAAABAAAEAAAAAAEAAAAAAAAAAQAAAgAAAAAEAAAEAAAAAAEAAAoAAAAAAQAABAAAAAABAAAAAAAAAAEAAAIAAAAAAQAACgAAAAABAAAEAAAAAAEAAAAAAAAAAQAAAgAAAAABAAAIAAAAAAIAAAIAAAAAAgAABAAAAAABAAAGAAAAAAEAAAIAAAAAAgAABAAAAAABAAAGAAAAAAEAAAIAAAAAAQAABgAAAAABAAACAAAAAAEAAAoAAAAAAQAABAAAAAABAAAAAAAAAAEAAAIAAAAAAQAACgAAAAABAAAEAAAAAAEAAAAAAAAAAQAAAgAAAAABAAAKAAAAAAEAAAQAAAAAAQAAAAAAAAABAAACAAAAAAEAAAYAAAAAAQAAAgAAAAADAAAEAAAAAAEAAAYAAAAAAQAAAgAAAAAFAAAEAAAAAAEAAAoAAAAAAQAABAAAAAABAAAAAAAAAAEAAAIAAAAAAgAABAAAAAABAAAKAAAAAAEAAAQAAAAAAQAAAAAAAAABAAACAAAAAAEAAAoAAAAAAQAABAAAAAABAAAAAAAAAAEAAAIAAAAAAQAACgAAAAABAAAEAAAAAAEAAAAAAAAAAQAAAgAAAAABAAAGAAAAAAEAAAIAAAAAAQAACgAAAAABAAAEAAAAAAEAAAAAAAAAAQAAAgAAAAAGAAAEAAAAAAEAAAoAAAAAAQAABAAAAAABAAAAAAAAAAEAAAIAAAAAAQAACAAAAAACAAACAAAAAAEAAAoAAAAAAQAABAAAAAABAAAAAAAAAAEAAAIAAAAAAQAACgAAAAABAAAEAAAAAAEAAAAAAAAAAQAAAgAAAAABAAAKAAAAAAEAAAQAAAAAAQAAAAAAAAABAAACAAAAAAEAAAoAAAAAAQAABAAAAAABAAAAAAAAAAEAAAIAAAAAAQAABAAAAAABAAAGAAAAAAEAAAIAAAAAAQAABgAAAAABAAACAAAAABxzdHNjAAAAAAAAAAEAAAABAAAAygAAAAEAAAM8c3RzegAAAAAAAAAAAAAAygAABa0AAAAYAAAAFAAAAA8AAAAUAAAAFAAAAB0AAAAWAAAAEgAAACAAAAAgAAAAFQAAABMAAAAUAAAAKwAAABYAAAATAAAALQAAABYAAAAUAAAAHQAAACEAAAAUAAAAHwAAABsAAAAdAAAAHQAAABYAAAASAAAAHQAAABwAAAAcAAAAHAAAABwAAAAdAAAAHQAAAB0AAAAqAAAAFgAAABQAAAAbAAAAEgAAABQAAAAUAAAAIgAAABQAAAATAAAAFAAAAC4AAAAXAAAAFAAAAB4AAAAvAAAAFwAAABQAAAAgAAAAFgAAABQAAAAjAAAAFAAAAB0AAAAjAAAAFQAAABMAAAAUAAAAFwAAABAAAAAUAAAAEwAAABYAAAAQAAAAFAAAABMAAAAeAAAAFgAAABIAAAAeAAAAHgAAABQAAAAUAAAAEwAAABYAAAAQAAAAFAAAABQAAAAhAAAAEwAAABwAAAAhAAAAEwAAABwAAAAZAAAAFgAAABQAAAAUAAAAHQAAAB0AAAAdAAAAHQAAAB8AAAAUAAAAEwAAABQAAAAWAAAAEAAAABQAAAAUAAAAHQAAABYAAAASAAAAHQAAAB0AAAAiAAAAFAAAABwAAAAcAAAAIQAAABQAAAAfAAAAFAAAAB8AAAAUAAAAFAAAABMAAAAWAAAAEAAAABQAAAAUAAAAFgAAABAAAAAUAAAAFAAAACEAAAATAAAAHgAAABsAAAAcAAAAGwAAABQAAAAcAAAAHAAAABwAAAAcAAAAHQAAABoAAAASAAAAFAAAABMAAAAeAAAAHQAAABoAAAASAAAAFAAAABQAAAAXAAAAEAAAABQAAAAUAAAAFgAAABAAAAAUAAAAFAAAACMAAAAUAAAAKgAAABQAAAATAAAAEwAAABwAAAAcAAAAHAAAABsAAAAcAAAAHAAAAB8AAAAUAAAAEwAAABQAAAAeAAAAEwAAABEAAAAgAAAAFAAAABMAAAATAAAAFwAAABAAAAAUAAAAEwAAABYAAAAQAAAAFAAAABMAAAAWAAAAEAAAABQAAAATAAAAHQAAACAAAAAUAAAAHwAAACgAAAAUc3RjbwAAAAAAAAABAAAAMAAAAGJ1ZHRhAAAAWm1ldGEAAAAAAAAAIWhkbHIAAAAAAAAAAG1kaXJhcHBsAAAAAAAAAAAAAAAALWlsc3QAAAAlqXRvbwAAAB1kYXRhAAAAAQAAAABMYXZmNTcuODMuMTAw\" type=\"video/mp4\" />\n",
       "             </video>"
      ],
      "text/plain": [
       "<IPython.core.display.HTML object>"
      ]
     },
     "execution_count": 14,
     "metadata": {
      "tags": []
     },
     "output_type": "execute_result"
    }
   ],
   "source": [
    "env = Environment(grid_size=size, max_time=T, temperature=0.3)\n",
    "agent = DQN_FC(size, lr=.1, epsilon = 0.1, memory_size=2000, batch_size = 32) ## try different values\n",
    "train(agent, env, epochs_train, prefix='fc_train')\n",
    "HTML(display_videos('fc_train10.mp4'))"
   ]
  },
  {
   "cell_type": "markdown",
   "metadata": {
    "colab_type": "text",
    "id": "yuIUor03TtCy"
   },
   "source": [
    "***\n",
    "***\n",
    "__Question 8__ Implement the DQN training algorithm using a CNN (for example, 2 convolutional layers and one final fully connected layer)."
   ]
  },
  {
   "cell_type": "code",
   "execution_count": 0,
   "metadata": {
    "colab": {},
    "colab_type": "code",
    "id": "HtI0wtHjTtCz"
   },
   "outputs": [],
   "source": [
    "class DQN_CNN(DQN):\n",
    "    def __init__(self, *args,lr=0.1,**kwargs):\n",
    "        super(DQN_CNN, self).__init__(*args,**kwargs)\n",
    "        \n",
    "        model = Sequential()\n",
    "        model.add(Conv2D(50,kernel_size = 2,activation='relu', input_shape=(5,5,self.n_state)))\n",
    "        model.add(Conv2D(25,kernel_size = 2,activation='relu'))\n",
    "        model.add(Flatten())\n",
    "        model.add(Dense(4))\n",
    "\n",
    "        # Use Adam optimizer instead\n",
    "        model.compile(Adam(lr=lr), \"mse\")\n",
    "        # model.compile(sgd(lr=lr, decay=1e-4, momentum=0.0), \"mse\")\n",
    "        self.model = model"
   ]
  },
  {
   "cell_type": "code",
   "execution_count": 14,
   "metadata": {
    "colab": {
     "base_uri": "https://localhost:8080/",
     "height": 794
    },
    "colab_type": "code",
    "id": "4J-pC7pcTtC4",
    "outputId": "39d79aa6-ea5c-4d34-bb3b-bb2806b52d4c"
   },
   "outputs": [
    {
     "name": "stdout",
     "output_type": "stream",
     "text": [
      "Epoch 000/030 | Loss 1.7019 | Win/lose count 4.5/4.0 (0.5)\n",
      "Epoch 001/030 | Loss 1.9864 | Win/lose count 7.0/6.0 (1.0)\n",
      "Epoch 002/030 | Loss 1.9297 | Win/lose count 7.5/9.0 (-1.5)\n",
      "Epoch 003/030 | Loss 1.7759 | Win/lose count 6.5/13.0 (-6.5)\n",
      "Epoch 004/030 | Loss 1.5165 | Win/lose count 14.5/13.0 (1.5)\n",
      "Epoch 005/030 | Loss 1.5563 | Win/lose count 13.0/21.0 (-8.0)\n",
      "Epoch 006/030 | Loss 1.5445 | Win/lose count 10.5/19.0 (-8.5)\n",
      "Epoch 007/030 | Loss 1.6345 | Win/lose count 11.0/20.0 (-9.0)\n",
      "Epoch 008/030 | Loss 1.7460 | Win/lose count 12.5/15.0 (-2.5)\n",
      "Epoch 009/030 | Loss 1.4986 | Win/lose count 9.5/17.0 (-7.5)\n",
      "Epoch 010/030 | Loss 1.3383 | Win/lose count 15.5/14.0 (1.5)\n",
      "Epoch 011/030 | Loss 0.7972 | Win/lose count 12.0/21.0 (-9.0)\n",
      "Epoch 012/030 | Loss 1.7824 | Win/lose count 8.5/20.0 (-11.5)\n",
      "Epoch 013/030 | Loss 1.7267 | Win/lose count 11.5/15.0 (-3.5)\n",
      "Epoch 014/030 | Loss 1.3613 | Win/lose count 11.5/14.0 (-2.5)\n",
      "Epoch 015/030 | Loss 1.0408 | Win/lose count 5.5/7.0 (-1.5)\n",
      "Epoch 016/030 | Loss 0.9659 | Win/lose count 8.5/9.0 (-0.5)\n",
      "Epoch 017/030 | Loss 1.4917 | Win/lose count 5.5/14.0 (-8.5)\n",
      "Epoch 018/030 | Loss 1.6176 | Win/lose count 7.0/13.0 (-6.0)\n",
      "Epoch 019/030 | Loss 1.8234 | Win/lose count 5.5/14.0 (-8.5)\n",
      "Epoch 020/030 | Loss 1.4856 | Win/lose count 11.5/12.0 (-0.5)\n",
      "Epoch 021/030 | Loss 1.3024 | Win/lose count 13.0/19.0 (-6.0)\n",
      "Epoch 022/030 | Loss 1.4862 | Win/lose count 12.0/23.0 (-11.0)\n",
      "Epoch 023/030 | Loss 1.3010 | Win/lose count 10.0/11.0 (-1.0)\n",
      "Epoch 024/030 | Loss 1.6552 | Win/lose count 12.0/20.0 (-8.0)\n",
      "Epoch 025/030 | Loss 2.1852 | Win/lose count 9.0/10.0 (-1.0)\n",
      "Epoch 026/030 | Loss 1.7843 | Win/lose count 13.0/13.0 (0.0)\n",
      "Epoch 027/030 | Loss 1.6843 | Win/lose count 8.0/20.0 (-12.0)\n",
      "Epoch 028/030 | Loss 1.2046 | Win/lose count 14.0/19.0 (-5.0)\n",
      "Epoch 029/030 | Loss 1.5275 | Win/lose count 17.5/19.0 (-1.5)\n"
     ]
    },
    {
     "data": {
      "text/html": [
       "<video alt=\"test\" controls>\n",
       "                <source src=\"data:video/mp4;base64,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\" type=\"video/mp4\" />\n",
       "             </video>"
      ],
      "text/plain": [
       "<IPython.core.display.HTML object>"
      ]
     },
     "execution_count": 14,
     "metadata": {
      "tags": []
     },
     "output_type": "execute_result"
    }
   ],
   "source": [
    "env = Environment(grid_size=size, max_time=T, temperature=0.3)\n",
    "agent = DQN_CNN(size, lr=.1, epsilon = 0.1, memory_size=2000, batch_size = 32)\n",
    "train(agent,env,epochs_train,prefix='cnn_train')\n",
    "HTML(display_videos('cnn_train10.mp4'))"
   ]
  },
  {
   "cell_type": "code",
   "execution_count": 15,
   "metadata": {
    "colab": {
     "base_uri": "https://localhost:8080/",
     "height": 794
    },
    "colab_type": "code",
    "id": "V62xLzF7aGck",
    "outputId": "d184b2a8-81d2-4ee7-c162-d148b8398b13"
   },
   "outputs": [
    {
     "name": "stdout",
     "output_type": "stream",
     "text": [
      "Epoch 000/030 | Loss 1.0400 | Win/lose count 4.0/6.0 (-2.0)\n",
      "Epoch 001/030 | Loss 0.6398 | Win/lose count 8.0/8.0 (0.0)\n",
      "Epoch 002/030 | Loss 1.4390 | Win/lose count 1.5/4.0 (-2.5)\n",
      "Epoch 003/030 | Loss 1.2138 | Win/lose count 7.0/6.0 (1.0)\n",
      "Epoch 004/030 | Loss 1.3267 | Win/lose count 5.5/15.0 (-9.5)\n",
      "Epoch 005/030 | Loss 1.1149 | Win/lose count 4.5/15.0 (-10.5)\n",
      "Epoch 006/030 | Loss 0.8604 | Win/lose count 9.0/9.0 (0.0)\n",
      "Epoch 007/030 | Loss 0.7420 | Win/lose count 8.0/17.0 (-9.0)\n",
      "Epoch 008/030 | Loss 0.6315 | Win/lose count 13.5/17.0 (-3.5)\n",
      "Epoch 009/030 | Loss 0.7909 | Win/lose count 14.5/13.0 (1.5)\n",
      "Epoch 010/030 | Loss 0.8127 | Win/lose count 9.0/13.0 (-4.0)\n",
      "Epoch 011/030 | Loss 1.0493 | Win/lose count 14.0/14.0 (0.0)\n",
      "Epoch 012/030 | Loss 0.6284 | Win/lose count 14.0/17.0 (-3.0)\n",
      "Epoch 013/030 | Loss 0.9042 | Win/lose count 9.0/20.0 (-11.0)\n",
      "Epoch 014/030 | Loss 0.8189 | Win/lose count 13.5/15.0 (-1.5)\n",
      "Epoch 015/030 | Loss 0.6254 | Win/lose count 12.0/24.0 (-12.0)\n",
      "Epoch 016/030 | Loss 1.3974 | Win/lose count 11.0/22.0 (-11.0)\n",
      "Epoch 017/030 | Loss 1.1560 | Win/lose count 14.5/20.0 (-5.5)\n",
      "Epoch 018/030 | Loss 0.9164 | Win/lose count 14.0/13.0 (1.0)\n",
      "Epoch 019/030 | Loss 0.8148 | Win/lose count 16.0/28.0 (-12.0)\n",
      "Epoch 020/030 | Loss 1.6649 | Win/lose count 15.0/16.0 (-1.0)\n",
      "Epoch 021/030 | Loss 1.6708 | Win/lose count 12.5/10.0 (2.5)\n",
      "Epoch 022/030 | Loss 0.8921 | Win/lose count 17.5/21.0 (-3.5)\n",
      "Epoch 023/030 | Loss 1.6429 | Win/lose count 13.5/15.0 (-1.5)\n",
      "Epoch 024/030 | Loss 1.5893 | Win/lose count 14.0/22.0 (-8.0)\n",
      "Epoch 025/030 | Loss 0.8652 | Win/lose count 13.5/18.0 (-4.5)\n",
      "Epoch 026/030 | Loss 1.1660 | Win/lose count 11.0/16.0 (-5.0)\n",
      "Epoch 027/030 | Loss 1.5908 | Win/lose count 15.5/17.0 (-1.5)\n",
      "Epoch 028/030 | Loss 1.7383 | Win/lose count 11.5/17.0 (-5.5)\n",
      "Epoch 029/030 | Loss 1.4489 | Win/lose count 7.0/6.0 (1.0)\n"
     ]
    },
    {
     "data": {
      "text/html": [
       "<video alt=\"test\" controls>\n",
       "                <source src=\"data:video/mp4;base64,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\" type=\"video/mp4\" />\n",
       "             </video>"
      ],
      "text/plain": [
       "<IPython.core.display.HTML object>"
      ]
     },
     "execution_count": 15,
     "metadata": {
      "tags": []
     },
     "output_type": "execute_result"
    }
   ],
   "source": [
    "env = Environment(grid_size=size, max_time=T, temperature=0.3)\n",
    "agent = DQN_CNN(size, lr=.1, epsilon = 0.1, memory_size=2000, batch_size = 32)\n",
    "train(agent,env,epochs_train,prefix='cnn_train')\n",
    "HTML(display_videos('cnn_train10.mp4'))"
   ]
  },
  {
   "cell_type": "markdown",
   "metadata": {
    "colab_type": "text",
    "id": "zwoed_BrTtC8"
   },
   "source": [
    "***\n",
    "***\n",
    "__Question 9__ Test both algorithms and compare their performances. Which issue(s) do you observe? Observe also different behaviors by changing the temperature.\n",
    "\n",
    "__Answer__ : I implemented the CNN and the FC networks with a temperature of 0.1, 0.3 or 0.5 and ran both twice. The performance of the CNN is better than the performance of the FC for a medium temperature or high temperature. The more the temperature increases (from 0.1 to 0.3 and from 0.3 to 0.5), the better the performances of both networks are, since there is more bonus on the board. From the videos, one can observe that the rat doesn't explore much : it usually stays in the same \"neighborhood\" in a while, and thus visits the same cells many times since the rat doesn't 'remember' the cells which have already been visited. "
   ]
  },
  {
   "cell_type": "markdown",
   "metadata": {},
   "source": [
    "###### First trial to loop over values of temperature"
   ]
  },
  {
   "cell_type": "code",
   "execution_count": 0,
   "metadata": {
    "colab": {
     "base_uri": "https://localhost:8080/",
     "height": 1000
    },
    "colab_type": "code",
    "id": "YDhQQ45PTtC9",
    "outputId": "c7767857-0721-4bc0-d27b-01a8770354ec"
   },
   "outputs": [
    {
     "name": "stdout",
     "output_type": "stream",
     "text": [
      "\n",
      "\n",
      "\n",
      "Test of the CNN with temperature 0.1\n",
      "Win/lose count 0.5/2.0. Average score (-308.0)\n",
      "Win/lose count 2.0/2.0. Average score (-150.75)\n",
      "Win/lose count 0.5/3.0. Average score (-231.5)\n",
      "Win/lose count 1.0/1.0. Average score (-156.0)\n",
      "Win/lose count 1.5/1.0. Average score (-130.1)\n",
      "Win/lose count 1.0/1.0. Average score (-128.91666666666666)\n",
      "Win/lose count 1.5/3.0. Average score (-129.42857142857142)\n",
      "Win/lose count 0/1.0. Average score (-137.625)\n",
      "Win/lose count 1.0/0. Average score (-100.38888888888889)\n",
      "Win/lose count 1.5/5.0. Average score (-124.8)\n",
      "Win/lose count 1.0/0. Average score (-99.72727272727273)\n",
      "Win/lose count 0.5/2.0. Average score (-114.5)\n",
      "Win/lose count 1.0/4.0. Average score (-151.96153846153845)\n",
      "Win/lose count 0.5/0. Average score (-134.07142857142858)\n",
      "Win/lose count 0/1.0. Average score (-132.26666666666668)\n",
      "Win/lose count 1.0/0. Average score (-111.625)\n",
      "Win/lose count 1.5/2.0. Average score (-114.70588235294117)\n",
      "Win/lose count 0.5/0. Average score (-105.63888888888889)\n",
      "Win/lose count 0.5/1.0. Average score (-105.05263157894737)\n",
      "Win/lose count 0/0. Average score (-99.8)\n",
      "Win/lose count 0/0. Average score (-95.04761904761905)\n",
      "Win/lose count 2.0/1.0. Average score (-80.0)\n",
      "Win/lose count 0.5/1.0. Average score (-79.3695652173913)\n",
      "Win/lose count 0/2.0. Average score (-92.72916666666667)\n",
      "Win/lose count 0.5/3.0. Average score (-100.84)\n",
      "Win/lose count 1.5/0. Average score (-90.75)\n",
      "Win/lose count 1.0/0. Average score (-80.94444444444444)\n",
      "Win/lose count 1.5/0. Average score (-67.92857142857143)\n",
      "Win/lose count 1.0/0. Average score (-58.741379310344826)\n",
      "Win/lose count 0.5/1.0. Average score (-54.56666666666667)\n",
      "Final score: -54.56666666666667\n",
      "\n",
      "Test of the FC with temperature 0.1\n",
      "Win/lose count 0.5/0. Average score (88.5)\n",
      "Win/lose count 0/4.0. Average score (-204.25)\n",
      "Win/lose count 0/1.0. Average score (-186.83333333333334)\n",
      "Win/lose count 0.5/0. Average score (-131.0)\n",
      "Win/lose count 1.5/3.0. Average score (-114.9)\n",
      "Win/lose count 0.5/0. Average score (-82.0)\n",
      "Win/lose count 0/1.0. Average score (-98.57142857142857)\n",
      "Win/lose count 0.5/1.0. Average score (-82.9375)\n",
      "Win/lose count 0/4.0. Average score (-133.5)\n",
      "Win/lose count 1.0/1.0. Average score (-126.9)\n",
      "Win/lose count 1.0/0. Average score (-108.72727272727273)\n",
      "Win/lose count 2.5/0. Average score (-64.08333333333333)\n",
      "Win/lose count 1.0/0. Average score (-49.84615384615385)\n",
      "Win/lose count 0/0. Average score (-46.285714285714285)\n",
      "Win/lose count 0.5/1.0. Average score (-52.43333333333333)\n",
      "Win/lose count 0.5/0. Average score (-42.90625)\n",
      "Win/lose count 1.5/1.0. Average score (-42.55882352941177)\n",
      "Win/lose count 0/0. Average score (-40.19444444444444)\n",
      "Win/lose count 0.5/1.0. Average score (-41.3421052631579)\n",
      "Win/lose count 1.0/2.0. Average score (-50.25)\n",
      "Win/lose count 0.5/1.0. Average score (-49.69047619047619)\n",
      "Win/lose count 1.5/0. Average score (-35.34090909090909)\n",
      "Win/lose count 1.5/0. Average score (-23.608695652173914)\n",
      "Win/lose count 0.5/1.0. Average score (-21.1875)\n",
      "Win/lose count 0.5/4.0. Average score (-49.04)\n",
      "Win/lose count 0.5/0. Average score (-43.34615384615385)\n",
      "Win/lose count 0.5/1.0. Average score (-42.05555555555556)\n",
      "Win/lose count 0/3.0. Average score (-56.19642857142857)\n",
      "Win/lose count 0/1.0. Average score (-61.05172413793103)\n",
      "Win/lose count 1.0/1.0. Average score (-56.68333333333333)\n",
      "Final score: -56.68333333333333\n",
      "\n",
      "\n",
      "\n",
      "Test of the CNN with temperature 0.3\n",
      "Win/lose count 1.5/2.0. Average score (-58.5)\n",
      "Win/lose count 3.5/3.0. Average score (44.25)\n",
      "Win/lose count 4.0/4.0. Average score (102.16666666666667)\n",
      "Win/lose count 2.5/2.0. Average score (106.75)\n",
      "Win/lose count 2.0/1.0. Average score (103.2)\n",
      "Win/lose count 4.0/4.0. Average score (72.25)\n",
      "Win/lose count 2.0/4.0. Average score (15.214285714285714)\n",
      "Win/lose count 2.0/4.0. Average score (4.625)\n",
      "Win/lose count 3.0/2.0. Average score (18.72222222222222)\n",
      "Win/lose count 3.5/5.0. Average score (-5.7)\n",
      "Win/lose count 2.5/3.0. Average score (-8.909090909090908)\n",
      "Win/lose count 1.5/2.0. Average score (-19.625)\n",
      "Win/lose count 3.5/1.0. Average score (15.807692307692308)\n",
      "Win/lose count 2.0/6.0. Average score (-27.5)\n",
      "Win/lose count 4.0/2.0. Average score (0.9)\n",
      "Win/lose count 3.0/7.0. Average score (-38.4375)\n",
      "Win/lose count 1.0/1.0. Average score (-27.88235294117647)\n",
      "Win/lose count 1.0/1.0. Average score (-26.63888888888889)\n",
      "Win/lose count 4.5/5.0. Average score (-39.1578947368421)\n",
      "Win/lose count 4.5/4.0. Average score (-25.975)\n",
      "Win/lose count 2.5/2.0. Average score (-22.595238095238095)\n",
      "Win/lose count 3.5/2.0. Average score (-13.568181818181818)\n",
      "Win/lose count 1.5/2.0. Average score (-17.67391304347826)\n",
      "Win/lose count 2.0/1.0. Average score (-10.583333333333334)\n",
      "Win/lose count 1.0/3.0. Average score (-19.64)\n",
      "Win/lose count 3.5/2.0. Average score (-3.326923076923077)\n",
      "Win/lose count 1.5/1.0. Average score (0.5925925925925926)\n",
      "Win/lose count 1.5/5.0. Average score (-23.017857142857142)\n",
      "Win/lose count 3.0/2.0. Average score (-10.10344827586207)\n",
      "Win/lose count 3.0/1.0. Average score (-1.95)\n",
      "Final score: -1.95\n",
      "\n",
      "Test of the FC with temperature 0.3\n",
      "Win/lose count 2.5/2.0. Average score (136.0)\n",
      "Win/lose count 2.5/2.0. Average score (71.25)\n",
      "Win/lose count 3.5/5.0. Average score (80.83333333333333)\n",
      "Win/lose count 2.5/4.0. Average score (-18.125)\n",
      "Win/lose count 2.5/1.0. Average score (9.8)\n",
      "Win/lose count 2.0/6.0. Average score (-69.83333333333333)\n",
      "Win/lose count 5.0/3.0. Average score (-17.714285714285715)\n",
      "Win/lose count 3.0/3.0. Average score (-17.3125)\n",
      "Win/lose count 4.0/5.0. Average score (-55.611111111111114)\n",
      "Win/lose count 3.5/4.0. Average score (-51.9)\n",
      "Win/lose count 1.0/2.0. Average score (-52.5)\n",
      "Win/lose count 1.0/1.0. Average score (-49.208333333333336)\n",
      "Win/lose count 1.0/3.0. Average score (-75.6923076923077)\n",
      "Win/lose count 3.5/2.0. Average score (-43.035714285714285)\n",
      "Win/lose count 2.5/5.0. Average score (-67.46666666666667)\n",
      "Win/lose count 2.0/5.0. Average score (-77.6875)\n",
      "Win/lose count 1.0/2.0. Average score (-83.29411764705883)\n",
      "Win/lose count 2.5/3.0. Average score (-81.25)\n",
      "Win/lose count 2.0/0. Average score (-57.473684210526315)\n",
      "Win/lose count 1.0/3.0. Average score (-73.275)\n",
      "Win/lose count 1.0/2.0. Average score (-77.88095238095238)\n",
      "Win/lose count 0/2.0. Average score (-83.11363636363636)\n",
      "Win/lose count 3.5/7.0. Average score (-79.43478260869566)\n",
      "Win/lose count 2.0/5.0. Average score (-94.60416666666667)\n",
      "Win/lose count 3.0/5.0. Average score (-105.94)\n",
      "Win/lose count 1.5/3.0. Average score (-113.53846153846153)\n",
      "Win/lose count 3.5/2.0. Average score (-101.70370370370371)\n",
      "Win/lose count 2.0/5.0. Average score (-108.10714285714286)\n",
      "Win/lose count 1.0/7.0. Average score (-141.5)\n",
      "Win/lose count 3.0/2.0. Average score (-133.68333333333334)\n",
      "Final score: -133.68333333333334\n",
      "\n",
      "\n",
      "\n",
      "Test of the CNN with temperature 0.5\n",
      "Win/lose count 5.0/7.0. Average score (-306.0)\n",
      "Win/lose count 1.0/7.0. Average score (-599.5)\n",
      "Win/lose count 4.0/5.0. Average score (-438.6666666666667)\n",
      "Win/lose count 4.0/3.0. Average score (-269.125)\n",
      "Win/lose count 3.0/10.0. Average score (-446.4)\n",
      "Win/lose count 5.0/2.0. Average score (-291.8333333333333)\n",
      "Win/lose count 5.0/3.0. Average score (-214.64285714285714)\n",
      "Win/lose count 2.0/5.0. Average score (-250.25)\n",
      "Win/lose count 3.0/5.0. Average score (-235.5)\n",
      "Win/lose count 5.0/7.0. Average score (-216.1)\n",
      "Win/lose count 4.0/4.0. Average score (-187.36363636363637)\n",
      "Win/lose count 3.0/6.0. Average score (-199.54166666666666)\n",
      "Win/lose count 2.0/0. Average score (-168.42307692307693)\n",
      "Win/lose count 1.5/3.0. Average score (-179.07142857142858)\n",
      "Win/lose count 4.0/2.0. Average score (-141.23333333333332)\n",
      "Win/lose count 3.5/1.0. Average score (-105.09375)\n",
      "Win/lose count 3.5/3.0. Average score (-83.0)\n",
      "Win/lose count 3.0/0. Average score (-54.94444444444444)\n",
      "Win/lose count 3.5/6.0. Average score (-84.23684210526316)\n",
      "Win/lose count 5.5/4.0. Average score (-64.025)\n",
      "Win/lose count 7.0/2.0. Average score (-35.833333333333336)\n",
      "Win/lose count 7.0/6.0. Average score (-38.84090909090909)\n",
      "Win/lose count 4.5/4.0. Average score (-32.54347826086956)\n",
      "Win/lose count 3.5/0. Average score (-12.770833333333334)\n",
      "Win/lose count 2.5/5.0. Average score (-21.56)\n",
      "Win/lose count 2.0/3.0. Average score (-24.423076923076923)\n",
      "Win/lose count 1.0/3.0. Average score (-37.46296296296296)\n",
      "Win/lose count 4.0/4.0. Average score (-35.142857142857146)\n",
      "Win/lose count 2.0/2.0. Average score (-32.775862068965516)\n",
      "Win/lose count 3.5/2.0. Average score (-25.033333333333335)\n",
      "Final score: -25.033333333333335\n",
      "\n",
      "Test of the FC with temperature 0.5\n",
      "Win/lose count 5.0/3.0. Average score (425.0)\n",
      "Win/lose count 2.0/2.0. Average score (267.5)\n",
      "Win/lose count 2.0/2.0. Average score (215.0)\n",
      "Win/lose count 3.0/7.0. Average score (-22.125)\n",
      "Win/lose count 3.0/2.0. Average score (40.5)\n",
      "Win/lose count 1.5/5.0. Average score (-80.16666666666667)\n",
      "Win/lose count 3.0/2.0. Average score (-40.714285714285715)\n",
      "Win/lose count 3.0/5.0. Average score (-67.25)\n",
      "Win/lose count 3.0/3.0. Average score (-70.55555555555556)\n",
      "Win/lose count 7.0/8.0. Average score (-113.9)\n"
     ]
    }
   ],
   "source": [
    "# Loop over low, medium and high value of the temperature\n",
    "for temp in [0.1,0.3,0.5]:\n",
    "    env = Environment(grid_size=size, max_time=T,temperature=temp)\n",
    "\n",
    "    agent_cnn = DQN_CNN(size, lr=.1, epsilon = 0.1, memory_size=2000, batch_size = 32)\n",
    "    agent_cnn.load(name_weights='cnn_trainmodel.h5',name_model='cnn_trainmodel.json')\n",
    "\n",
    "    agent_fc = DQN_FC(size, lr=.1, epsilon = 0.1, memory_size=2000, batch_size = 32)\n",
    "    agent_fc.load(name_weights='fc_trainmodel.h5',name_model='fc_trainmodel.json') #change to load agent_fc and not agent_cnn\n",
    "    \n",
    "    # Print results\n",
    "    print('\\n\\n\\nTest of the CNN with temperature',temp)\n",
    "    test(agent_cnn,env,epochs_test,prefix='cnn_test')\n",
    "    print('\\nTest of the FC with temperature',temp)\n",
    "    test(agent_fc,env,epochs_test,prefix='fc_test')"
   ]
  },
  {
   "cell_type": "markdown",
   "metadata": {},
   "source": [
    "###### Second trial to loop over values of temperature"
   ]
  },
  {
   "cell_type": "code",
   "execution_count": 16,
   "metadata": {
    "colab": {
     "base_uri": "https://localhost:8080/",
     "height": 1000
    },
    "colab_type": "code",
    "id": "FXl1miW5ZqAC",
    "outputId": "9611b0fc-79bf-4a6f-c7f3-451ae4606e88",
    "scrolled": true
   },
   "outputs": [
    {
     "name": "stdout",
     "output_type": "stream",
     "text": [
      "\n",
      "\n",
      "\n",
      "Test of the CNN with temperature 0.1\n",
      "Win/lose count 0.5/1.0. Average score (-77.0)\n",
      "Win/lose count 0.5/1.0. Average score (-52.0)\n",
      "Win/lose count 1.0/3.0. Average score (-199.0)\n",
      "Win/lose count 0/4.0. Average score (-342.75)\n",
      "Win/lose count 0.5/1.0. Average score (-287.9)\n",
      "Win/lose count 1.0/0. Average score (-223.75)\n",
      "Win/lose count 0/1.0. Average score (-213.35714285714286)\n",
      "Win/lose count 2.0/1.0. Average score (-160.0625)\n",
      "Win/lose count 1.5/1.0. Average score (-122.94444444444444)\n",
      "Win/lose count 0/1.0. Average score (-124.85)\n",
      "Win/lose count 0.5/3.0. Average score (-148.77272727272728)\n",
      "Win/lose count 0.5/0. Average score (-128.125)\n",
      "Win/lose count 1.0/1.0. Average score (-119.92307692307692)\n",
      "Win/lose count 0.5/1.0. Average score (-118.92857142857143)\n",
      "Win/lose count 1.0/0. Average score (-106.16666666666667)\n",
      "Win/lose count 0.5/4.0. Average score (-131.5)\n",
      "Win/lose count 0/2.0. Average score (-141.47058823529412)\n",
      "Win/lose count 1.5/1.0. Average score (-132.94444444444446)\n",
      "Win/lose count 2.5/0. Average score (-103.65789473684211)\n",
      "Win/lose count 1.0/1.0. Average score (-98.35)\n",
      "Win/lose count 1.0/2.0. Average score (-99.85714285714286)\n",
      "Win/lose count 1.5/1.0. Average score (-90.95454545454545)\n",
      "Win/lose count 0.5/1.0. Average score (-91.32608695652173)\n",
      "Win/lose count 0.5/2.0. Average score (-93.70833333333333)\n",
      "Win/lose count 0.5/2.0. Average score (-101.42)\n",
      "Win/lose count 1.0/1.0. Average score (-92.03846153846153)\n",
      "Win/lose count 0/1.0. Average score (-96.03703703703704)\n",
      "Win/lose count 1.0/2.0. Average score (-98.58928571428571)\n",
      "Win/lose count 1.0/2.0. Average score (-91.8103448275862)\n",
      "Win/lose count 1.0/1.0. Average score (-89.8)\n",
      "Final score: -89.8\n",
      "\n",
      "Test of the FC with temperature 0.1\n",
      "Win/lose count 0/0. Average score (0.0)\n",
      "Win/lose count 0.5/1.0. Average score (-69.5)\n",
      "Win/lose count 1.5/1.0. Average score (-20.833333333333332)\n",
      "Win/lose count 0/1.0. Average score (-53.125)\n",
      "Win/lose count 2.0/1.0. Average score (-11.1)\n",
      "Win/lose count 0.5/0. Average score (-0.6666666666666666)\n",
      "Win/lose count 0.5/0. Average score (11.0)\n",
      "Win/lose count 0.5/0. Average score (21.9375)\n",
      "Win/lose count 2.5/2.0. Average score (24.444444444444443)\n",
      "Win/lose count 0.5/2.0. Average score (-2.45)\n",
      "Win/lose count 0/1.0. Average score (-20.40909090909091)\n",
      "Win/lose count 2.0/2.0. Average score (-24.166666666666668)\n",
      "Win/lose count 1.0/2.0. Average score (-27.192307692307693)\n",
      "Win/lose count 1.0/1.0. Average score (-27.678571428571427)\n",
      "Win/lose count 1.0/1.0. Average score (-22.966666666666665)\n",
      "Win/lose count 0/1.0. Average score (-34.03125)\n",
      "Win/lose count 2.0/1.0. Average score (-24.11764705882353)\n",
      "Win/lose count 2.0/2.0. Average score (-28.694444444444443)\n",
      "Win/lose count 0.5/1.0. Average score (-35.71052631578947)\n",
      "Win/lose count 1.5/2.0. Average score (-35.925)\n",
      "Win/lose count 1.0/2.0. Average score (-41.95238095238095)\n",
      "Win/lose count 2.0/3.0. Average score (-47.09090909090909)\n",
      "Win/lose count 1.5/3.0. Average score (-54.26086956521739)\n",
      "Win/lose count 1.0/3.0. Average score (-66.33333333333333)\n",
      "Win/lose count 1.0/1.0. Average score (-67.3)\n",
      "Win/lose count 1.0/1.0. Average score (-68.03846153846153)\n",
      "Win/lose count 1.0/0. Average score (-59.851851851851855)\n",
      "Win/lose count 1.0/1.0. Average score (-58.857142857142854)\n",
      "Win/lose count 2.0/1.0. Average score (-46.258620689655174)\n",
      "Win/lose count 0.5/0. Average score (-41.36666666666667)\n",
      "Final score: -41.36666666666667\n"
     ]
    }
   ],
   "source": [
    "# Low temperature\n",
    "temp=0.1\n",
    "env = Environment(grid_size=size, max_time=T,temperature=temp)\n",
    "\n",
    "agent_cnn = DQN_CNN(size, lr=.1, epsilon = 0.1, memory_size=2000, batch_size = 32)\n",
    "agent_cnn.load(name_weights='cnn_trainmodel.h5',name_model='cnn_trainmodel.json')\n",
    "\n",
    "agent_fc = DQN_FC(size, lr=.1, epsilon = 0.1, memory_size=2000, batch_size = 32)\n",
    "agent_fc.load(name_weights='fc_trainmodel.h5',name_model='fc_trainmodel.json') #change to load agent_fc and not agent_cnn\n",
    "\n",
    "# Print results\n",
    "print('\\n\\n\\nTest of the CNN with temperature',temp)\n",
    "test(agent_cnn,env,epochs_test,prefix='cnn_test')\n",
    "print('\\nTest of the FC with temperature',temp)\n",
    "test(agent_fc,env,epochs_test,prefix='fc_test')"
   ]
  },
  {
   "cell_type": "code",
   "execution_count": 15,
   "metadata": {
    "colab": {
     "base_uri": "https://localhost:8080/",
     "height": 1000
    },
    "colab_type": "code",
    "id": "7njbhgC6aQUt",
    "outputId": "19ae4881-609b-421e-fd04-76aac0023620",
    "scrolled": true
   },
   "outputs": [
    {
     "name": "stdout",
     "output_type": "stream",
     "text": [
      "\n",
      "\n",
      "\n",
      "Test of the CNN with temperature 0.3\n",
      "Win/lose count 1.5/4.0. Average score (-439.0)\n",
      "Win/lose count 2.0/5.0. Average score (-397.75)\n",
      "Win/lose count 2.0/3.0. Average score (-287.6666666666667)\n",
      "Win/lose count 2.0/4.0. Average score (-258.375)\n",
      "Win/lose count 4.0/5.0. Average score (-201.7)\n",
      "Win/lose count 2.5/2.0. Average score (-157.08333333333334)\n",
      "Win/lose count 2.5/4.0. Average score (-144.07142857142858)\n",
      "Win/lose count 3.5/3.0. Average score (-134.4375)\n",
      "Win/lose count 2.0/1.0. Average score (-104.16666666666667)\n",
      "Win/lose count 3.5/7.0. Average score (-152.65)\n",
      "Win/lose count 1.5/3.0. Average score (-160.95454545454547)\n",
      "Win/lose count 4.5/3.0. Average score (-123.5)\n",
      "Win/lose count 3.0/3.0. Average score (-103.07692307692308)\n",
      "Win/lose count 2.0/3.0. Average score (-125.0)\n",
      "Win/lose count 1.5/1.0. Average score (-117.03333333333333)\n",
      "Win/lose count 4.0/2.0. Average score (-75.25)\n",
      "Win/lose count 2.5/2.0. Average score (-75.05882352941177)\n",
      "Win/lose count 2.0/2.0. Average score (-66.11111111111111)\n",
      "Win/lose count 1.5/2.0. Average score (-66.63157894736842)\n",
      "Win/lose count 2.0/6.0. Average score (-87.025)\n",
      "Win/lose count 2.5/6.0. Average score (-117.9047619047619)\n",
      "Win/lose count 3.5/2.0. Average score (-101.54545454545455)\n",
      "Win/lose count 1.0/3.0. Average score (-109.73913043478261)\n",
      "Win/lose count 1.5/2.0. Average score (-109.10416666666667)\n",
      "Win/lose count 4.5/3.0. Average score (-85.38)\n",
      "Win/lose count 2.0/2.0. Average score (-81.5)\n",
      "Win/lose count 2.0/3.0. Average score (-81.05555555555556)\n",
      "Win/lose count 2.0/0. Average score (-65.07142857142857)\n",
      "Win/lose count 1.0/3.0. Average score (-73.77586206896552)\n",
      "Win/lose count 1.0/2.0. Average score (-75.01666666666667)\n",
      "Final score: -75.01666666666667\n",
      "\n",
      "Test of the FC with temperature 0.3\n",
      "Win/lose count 3.0/5.0. Average score (-477.0)\n",
      "Win/lose count 1.5/6.0. Average score (-458.0)\n",
      "Win/lose count 4.0/4.0. Average score (-339.6666666666667)\n",
      "Win/lose count 2.5/2.0. Average score (-223.75)\n",
      "Win/lose count 0/2.0. Average score (-232.6)\n",
      "Win/lose count 1.5/5.0. Average score (-271.3333333333333)\n",
      "Win/lose count 3.5/1.0. Average score (-174.28571428571428)\n",
      "Win/lose count 3.0/2.0. Average score (-151.6875)\n",
      "Win/lose count 2.5/2.0. Average score (-145.38888888888889)\n",
      "Win/lose count 3.0/3.0. Average score (-137.4)\n",
      "Win/lose count 3.0/4.0. Average score (-125.72727272727273)\n",
      "Win/lose count 4.0/2.0. Average score (-87.91666666666667)\n",
      "Win/lose count 1.5/2.0. Average score (-89.11538461538461)\n",
      "Win/lose count 3.5/5.0. Average score (-104.32142857142857)\n",
      "Win/lose count 3.0/0. Average score (-58.53333333333333)\n",
      "Win/lose count 1.0/4.0. Average score (-78.75)\n",
      "Win/lose count 2.5/3.0. Average score (-73.47058823529412)\n",
      "Win/lose count 2.0/3.0. Average score (-78.5)\n",
      "Win/lose count 2.5/3.0. Average score (-82.63157894736842)\n",
      "Win/lose count 2.0/3.0. Average score (-88.075)\n",
      "Win/lose count 3.5/3.0. Average score (-83.57142857142857)\n",
      "Win/lose count 1.5/7.0. Average score (-126.27272727272727)\n",
      "Win/lose count 2.0/6.0. Average score (-131.34782608695653)\n",
      "Win/lose count 1.5/6.0. Average score (-150.91666666666666)\n",
      "Win/lose count 2.0/1.0. Average score (-141.16)\n",
      "Win/lose count 2.0/4.0. Average score (-149.90384615384616)\n",
      "Win/lose count 1.5/1.0. Average score (-145.5)\n",
      "Win/lose count 5.0/4.0. Average score (-142.5)\n",
      "Win/lose count 3.5/7.0. Average score (-159.05172413793105)\n",
      "Win/lose count 1.5/7.0. Average score (-188.55)\n",
      "Final score: -188.55\n"
     ]
    }
   ],
   "source": [
    "# Medium temperature\n",
    "temp=0.3\n",
    "env = Environment(grid_size=size, max_time=T,temperature=temp)\n",
    "\n",
    "agent_cnn = DQN_CNN(size, lr=.1, epsilon = 0.1, memory_size=2000, batch_size = 32)\n",
    "agent_cnn.load(name_weights='cnn_trainmodel.h5',name_model='cnn_trainmodel.json')\n",
    "\n",
    "agent_fc = DQN_FC(size, lr=.1, epsilon = 0.1, memory_size=2000, batch_size = 32)\n",
    "agent_fc.load(name_weights='fc_trainmodel.h5',name_model='fc_trainmodel.json') #change to load agent_fc and not agent_cnn\n",
    "\n",
    "# Print results\n",
    "print('\\n\\n\\nTest of the CNN with temperature',temp)\n",
    "test(agent_cnn,env,epochs_test,prefix='cnn_test')\n",
    "print('\\nTest of the FC with temperature',temp)\n",
    "test(agent_fc,env,epochs_test,prefix='fc_test')"
   ]
  },
  {
   "cell_type": "code",
   "execution_count": 16,
   "metadata": {
    "colab": {
     "base_uri": "https://localhost:8080/",
     "height": 1000
    },
    "colab_type": "code",
    "id": "k-8DFQzOaRyl",
    "outputId": "d26f35ab-4b66-49af-822e-9e751418f9d3",
    "scrolled": true
   },
   "outputs": [
    {
     "name": "stdout",
     "output_type": "stream",
     "text": [
      "\n",
      "\n",
      "\n",
      "Test of the CNN with temperature 0.5\n",
      "Win/lose count 5.0/5.0. Average score (17.5)\n",
      "Win/lose count 4.5/4.0. Average score (-44.75)\n",
      "Win/lose count 4.0/4.0. Average score (-9.666666666666666)\n",
      "Win/lose count 4.5/2.0. Average score (60.875)\n",
      "Win/lose count 6.0/6.0. Average score (81.8)\n",
      "Win/lose count 5.5/4.0. Average score (88.66666666666667)\n",
      "Win/lose count 3.0/3.0. Average score (65.57142857142857)\n",
      "Win/lose count 3.5/0. Average score (107.1875)\n",
      "Win/lose count 6.5/1.0. Average score (160.05555555555554)\n",
      "Win/lose count 3.0/5.0. Average score (103.1)\n",
      "Win/lose count 3.5/3.0. Average score (112.95454545454545)\n",
      "Win/lose count 4.0/2.0. Average score (122.04166666666667)\n",
      "Win/lose count 3.0/5.0. Average score (92.23076923076923)\n",
      "Win/lose count 5.5/1.0. Average score (127.96428571428571)\n",
      "Win/lose count 4.0/1.0. Average score (146.76666666666668)\n",
      "Win/lose count 5.5/3.0. Average score (160.84375)\n",
      "Win/lose count 5.0/6.0. Average score (141.85294117647058)\n",
      "Win/lose count 2.5/3.0. Average score (127.08333333333333)\n",
      "Win/lose count 6.0/5.0. Average score (122.89473684210526)\n",
      "Win/lose count 3.5/6.0. Average score (88.65)\n",
      "Win/lose count 6.0/5.0. Average score (92.21428571428571)\n",
      "Win/lose count 3.5/6.0. Average score (62.40909090909091)\n",
      "Win/lose count 3.0/3.0. Average score (57.65217391304348)\n",
      "Win/lose count 7.0/5.0. Average score (65.75)\n",
      "Win/lose count 3.0/4.0. Average score (53.42)\n",
      "Win/lose count 6.0/9.0. Average score (34.23076923076923)\n",
      "Win/lose count 5.0/4.0. Average score (35.68518518518518)\n",
      "Win/lose count 3.5/3.0. Average score (37.535714285714285)\n",
      "Win/lose count 2.0/2.0. Average score (34.310344827586206)\n",
      "Win/lose count 4.5/3.0. Average score (37.75)\n",
      "Final score: 37.75\n",
      "\n",
      "Test of the FC with temperature 0.5\n",
      "Win/lose count 5.5/3.0. Average score (383.5)\n",
      "Win/lose count 2.5/6.0. Average score (-125.0)\n",
      "Win/lose count 9.0/6.0. Average score (18.0)\n",
      "Win/lose count 5.0/2.0. Average score (130.25)\n",
      "Win/lose count 4.0/4.0. Average score (29.0)\n",
      "Win/lose count 5.5/6.0. Average score (0.6666666666666666)\n",
      "Win/lose count 3.5/3.0. Average score (-22.0)\n",
      "Win/lose count 2.0/3.0. Average score (-42.5625)\n",
      "Win/lose count 0.5/3.0. Average score (-56.166666666666664)\n",
      "Win/lose count 3.0/2.0. Average score (-34.15)\n",
      "Win/lose count 1.5/6.0. Average score (-109.22727272727273)\n",
      "Win/lose count 4.0/1.0. Average score (-77.5)\n",
      "Win/lose count 3.0/4.0. Average score (-83.53846153846153)\n",
      "Win/lose count 5.5/5.0. Average score (-60.67857142857143)\n",
      "Win/lose count 4.0/3.0. Average score (-47.56666666666667)\n",
      "Win/lose count 4.0/3.0. Average score (-36.9375)\n",
      "Win/lose count 3.5/7.0. Average score (-73.47058823529412)\n",
      "Win/lose count 5.0/3.0. Average score (-33.416666666666664)\n",
      "Win/lose count 1.0/4.0. Average score (-56.10526315789474)\n",
      "Win/lose count 2.5/5.0. Average score (-53.15)\n",
      "Win/lose count 4.5/1.0. Average score (-21.595238095238095)\n",
      "Win/lose count 4.5/7.0. Average score (-37.04545454545455)\n",
      "Win/lose count 6.0/0. Average score (14.652173913043478)\n",
      "Win/lose count 2.5/2.0. Average score (16.625)\n",
      "Win/lose count 5.0/3.0. Average score (35.98)\n",
      "Win/lose count 2.5/4.0. Average score (32.28846153846154)\n",
      "Win/lose count 2.5/2.0. Average score (37.03703703703704)\n",
      "Win/lose count 2.5/1.0. Average score (44.107142857142854)\n",
      "Win/lose count 4.5/2.0. Average score (55.172413793103445)\n",
      "Win/lose count 3.5/2.0. Average score (60.36666666666667)\n",
      "Final score: 60.36666666666667\n"
     ]
    }
   ],
   "source": [
    "# High temperature\n",
    "temp=0.5\n",
    "env = Environment(grid_size=size, max_time=T,temperature=temp)\n",
    "\n",
    "agent_cnn = DQN_CNN(size, lr=.1, epsilon = 0.1, memory_size=2000, batch_size = 32)\n",
    "agent_cnn.load(name_weights='cnn_trainmodel.h5',name_model='cnn_trainmodel.json')\n",
    "\n",
    "agent_fc = DQN_FC(size, lr=.1, epsilon = 0.1, memory_size=2000, batch_size = 32)\n",
    "agent_fc.load(name_weights='fc_trainmodel.h5',name_model='fc_trainmodel.json') #change to load agent_fc and not agent_cnn\n",
    "\n",
    "# Print results\n",
    "print('\\n\\n\\nTest of the CNN with temperature',temp)\n",
    "test(agent_cnn,env,epochs_test,prefix='cnn_test')\n",
    "print('\\nTest of the FC with temperature',temp)\n",
    "test(agent_fc,env,epochs_test,prefix='fc_test')"
   ]
  },
  {
   "cell_type": "code",
   "execution_count": 17,
   "metadata": {
    "colab": {
     "base_uri": "https://localhost:8080/",
     "height": 292
    },
    "colab_type": "code",
    "id": "DsNelNm4TtDB",
    "outputId": "b3c373de-fa82-4efc-c7c5-3286c9bb4938"
   },
   "outputs": [
    {
     "data": {
      "text/html": [
       "<video alt=\"test\" controls>\n",
       "                <source src=\"data:video/mp4;base64,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\" type=\"video/mp4\" />\n",
       "             </video>"
      ],
      "text/plain": [
       "<IPython.core.display.HTML object>"
      ]
     },
     "execution_count": 17,
     "metadata": {
      "tags": []
     },
     "output_type": "execute_result"
    }
   ],
   "source": [
    "HTML(display_videos('cnn_test10.mp4'))"
   ]
  },
  {
   "cell_type": "code",
   "execution_count": 18,
   "metadata": {
    "colab": {
     "base_uri": "https://localhost:8080/",
     "height": 292
    },
    "colab_type": "code",
    "id": "i7gJea90TtDG",
    "outputId": "6f6c93fe-ad19-4e06-8a11-5cc5e10ecff1"
   },
   "outputs": [
    {
     "data": {
      "text/html": [
       "<video alt=\"test\" controls>\n",
       "                <source src=\"data:video/mp4;base64,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\" type=\"video/mp4\" />\n",
       "             </video>"
      ],
      "text/plain": [
       "<IPython.core.display.HTML object>"
      ]
     },
     "execution_count": 18,
     "metadata": {
      "tags": []
     },
     "output_type": "execute_result"
    }
   ],
   "source": [
    "HTML(display_videos('fc_test10.mp4'))"
   ]
  },
  {
   "cell_type": "markdown",
   "metadata": {
    "colab_type": "text",
    "id": "drL4EgKwTtDL"
   },
   "source": [
    "***\n",
    "\n",
    "The algorithm tends to not explore the map which can be an issue. We propose two ideas in order to encourage exploration:\n",
    "1. Incorporating a decreasing $\\epsilon$-greedy exploration. You can use the method ```set_epsilon```\n",
    "2. Append via the environment a new state that describes if a cell has been visited or not\n",
    "\n",
    "***\n",
    "__Question 10__ Design a new ```train_explore``` function and environment class ```EnvironmentExploring``` to tackle the issue of exploration.\n",
    "\n"
   ]
  },
  {
   "cell_type": "code",
   "execution_count": 0,
   "metadata": {
    "colab": {},
    "colab_type": "code",
    "id": "a0KwskWiTtDO"
   },
   "outputs": [],
   "source": [
    "def train_explore(agent,env,epoch,prefix='',train=True):\n",
    "    ''' The function is defined as train, but includes exploration'''\n",
    "      # Number of won games\n",
    "    score = 0\n",
    "    loss = 0\n",
    "\n",
    "    for e in range(epoch):\n",
    "        # At each epoch, we restart to a fresh game and get the initial state\n",
    "        state = env.reset()\n",
    "        # This assumes that the games will terminate\n",
    "        game_over = False\n",
    "\n",
    "        win = 0\n",
    "        lose = 0\n",
    "        \n",
    "        # Increase decreasing epsilon-greedy exploration\n",
    "        agent.set_epsilon(agent.epsilon*0.9)\n",
    "        while not game_over:\n",
    "            # The agent performs an action\n",
    "            action = agent.act(state)\n",
    "\n",
    "            # Apply an action to the environment, get the next state, the reward\n",
    "            # and if the games end\n",
    "            prev_state = state\n",
    "            state, reward, game_over = env.act(action, train)\n",
    "\n",
    "            # Update the counters\n",
    "            if reward > 0:\n",
    "                win = win + reward\n",
    "            if reward < 0:\n",
    "                lose = lose -reward\n",
    "\n",
    "            # Apply the reinforcement strategy\n",
    "            loss = agent.reinforce(prev_state, state,  action, reward, game_over)\n",
    "\n",
    "        # Save as a mp4\n",
    "        if e % 10 == 0:\n",
    "            env.draw(prefix+str(e))\n",
    "\n",
    "        # Update stats\n",
    "        score += win-lose\n",
    "\n",
    "        print(\"Epoch {:03d}/{:03d} | Loss {:.4f} | Win/lose count {}/{} ({})\"\n",
    "              .format(e, epoch, loss, win, lose, win-lose))\n",
    "        agent.save(name_weights=prefix+'model_explo.h5',name_model=prefix+'model_explo.json')\n",
    "        \n",
    "class EnvironmentExploring(object):\n",
    "    ''' this class is equivalent to the Environment class, except that a malus for already visited positions is added'''\n",
    "    def __init__(self, grid_size=10, max_time=500, temperature=0.1):\n",
    "        grid_size = grid_size+4\n",
    "        self.grid_size = grid_size\n",
    "        self.max_time = max_time\n",
    "        self.temperature = temperature\n",
    "\n",
    "        #board on which one plays\n",
    "        self.board = np.zeros((grid_size,grid_size))\n",
    "        self.position = np.zeros((grid_size,grid_size))\n",
    "        # add malus position\n",
    "        self.malus_position=np.zeros((grid_size,grid_size))\n",
    "\n",
    "        # coordinate of the cat \n",
    "        self.x = 0\n",
    "        self.y = 1\n",
    "\n",
    "        # self time\n",
    "        self.t = 0\n",
    "\n",
    "        self.scale=16\n",
    "\n",
    "        self.to_draw = np.zeros((max_time+2, grid_size*self.scale, grid_size*self.scale, 3))\n",
    "\n",
    "\n",
    "    def draw(self,e):\n",
    "        skvideo.io.vwrite(str(e) + '.mp4', self.to_draw)\n",
    "\n",
    "    def get_frame(self,t):\n",
    "        b = np.zeros((self.grid_size,self.grid_size,3))+128\n",
    "        b[self.board>0,0] = 256\n",
    "        b[self.board < 0, 2] = 256\n",
    "        b[self.x,self.y,:]=256\n",
    "        b[-2:,:,:]=0\n",
    "        b[:,-2:,:]=0\n",
    "        b[:2,:,:]=0\n",
    "        b[:,:2,:]=0\n",
    "        \n",
    "        b =  cv2.resize(b, None, fx=self.scale, fy=self.scale, interpolation=cv2.INTER_NEAREST)\n",
    "\n",
    "        self.to_draw[t,:,:,:]=b\n",
    "\n",
    "\n",
    "    def act(self, action, train):\n",
    "        \"\"\"This function returns the new state, reward and decides if the\n",
    "        game ends.\"\"\"\n",
    "\n",
    "        self.get_frame(int(self.t))\n",
    "\n",
    "        self.position = np.zeros((self.grid_size, self.grid_size))\n",
    "\n",
    "        self.position[0:2,:]= -1\n",
    "        self.position[:,0:2] = -1\n",
    "        self.position[-2:, :] = -1\n",
    "        self.position[-2:, :] = -1\n",
    "\n",
    "        self.position[self.x, self.y] = 1\n",
    "        if action == 0: ## go right\n",
    "            if self.x == self.grid_size-3:\n",
    "                self.x = self.x-1\n",
    "            else:\n",
    "                self.x = self.x + 1\n",
    "        elif action == 1: ##go left\n",
    "            if self.x == 2:\n",
    "                self.x = self.x+1\n",
    "            else:\n",
    "                self.x = self.x-1\n",
    "        elif action == 2: ## go up\n",
    "            if self.y == self.grid_size - 3:\n",
    "                self.y = self.y - 1\n",
    "            else:\n",
    "                self.y = self.y + 1\n",
    "        elif action == 3: ##go down\n",
    "            if self.y == 2:\n",
    "                self.y = self.y + 1\n",
    "            else:\n",
    "                self.y = self.y - 1\n",
    "        else:\n",
    "            RuntimeError('Error: action not recognized')\n",
    "\n",
    "        self.t = self.t + 1 #time\n",
    "\n",
    "        #update the malus with new position visited :\n",
    "        # during the training step, we integrate a malus of the position has already been visited\n",
    "        # during the test step, the malus_position matrix will only contain zeros\n",
    "        if train==True :\n",
    "            self.malus_position[self.x,self.y]=0.1\n",
    "\n",
    "        # the reward is the sum of the malus for the position and of the board malus/bonus\n",
    "        reward = self.board[self.x, self.y]-self.malus_position[self.x,self.y]\n",
    "\n",
    "        self.board[self.x, self.y] = 0 #once poison or cheese is eaten it can't be eaten again\n",
    "        game_over = self.t > self.max_time\n",
    "        # state : 3 \"feature\" states instead of 2\n",
    "        state = np.concatenate((self.malus_position.reshape(self.grid_size, self.grid_size,1),\n",
    "                                self.board.reshape(self.grid_size, self.grid_size,1),\n",
    "                        self.position.reshape(self.grid_size, self.grid_size,1)),axis=2)\n",
    "        # the rat only knows this (limited visibility)\n",
    "        state = state[self.x-2:self.x+3,self.y-2:self.y+3,:]\n",
    "\n",
    "        return state, reward, game_over\n",
    "\n",
    "    def reset(self):\n",
    "        \"\"\"This function resets the game and returns the initial state\"\"\"\n",
    "        \n",
    "        # random initial position\n",
    "        self.x = np.random.randint(3, self.grid_size-3, size=1)[0]\n",
    "        self.y = np.random.randint(3, self.grid_size-3, size=1)[0]\n",
    "\n",
    "        \n",
    "        # more bonus if higher temperature\n",
    "        bonus = 0.5*np.random.binomial(1,self.temperature,size=self.grid_size**2)\n",
    "        bonus = bonus.reshape(self.grid_size,self.grid_size)\n",
    "        \n",
    "        # more malus if higher temperature\n",
    "        malus = -1.0*np.random.binomial(1,self.temperature,size=self.grid_size**2)\n",
    "        malus = malus.reshape(self.grid_size, self.grid_size)\n",
    "\n",
    "        self.to_draw = np.zeros((self.max_time+2, self.grid_size*self.scale, self.grid_size*self.scale, 3))\n",
    "\n",
    "        # if both malus and bonus --> only bonus\n",
    "        malus[bonus>0]=0\n",
    "\n",
    "        self.board = bonus + malus\n",
    "\n",
    "        self.position = np.zeros((self.grid_size, self.grid_size))\n",
    "        self.position[0:2,:]= -1\n",
    "        self.position[:,0:2] = -1\n",
    "        self.position[-2:, :] = -1\n",
    "        self.position[-2:, :] = -1\n",
    "        self.board[self.x,self.y] = 0\n",
    "        self.t = 0\n",
    "\n",
    "        # initialize the malus for the position to 0 :\n",
    "        self.malus_position=np.zeros((self.grid_size,self.grid_size))\n",
    "\n",
    "        state = np.concatenate((self.malus_position.reshape(self.grid_size, self.grid_size,1),\n",
    "                               self.board.reshape(self.grid_size, self.grid_size,1),\n",
    "                        self.position.reshape(self.grid_size, self.grid_size,1)),axis=2)\n",
    "\n",
    "        state = state[self.x - 2:self.x + 3, self.y - 2:self.y + 3, :]\n",
    "        return state"
   ]
  },
  {
   "cell_type": "code",
   "execution_count": 40,
   "metadata": {
    "colab": {
     "base_uri": "https://localhost:8080/",
     "height": 794
    },
    "colab_type": "code",
    "id": "Np3USj_lTtDU",
    "outputId": "88b9250f-d6c4-4f79-a00a-1612fbfdca85"
   },
   "outputs": [
    {
     "name": "stdout",
     "output_type": "stream",
     "text": [
      "Epoch 000/030 | Loss 1.7591 | Win/lose count 8.000000000000002/28.10000000000007 (-20.100000000000065)\n",
      "Epoch 001/030 | Loss 0.6879 | Win/lose count 10.400000000000004/29.500000000000092 (-19.100000000000087)\n",
      "Epoch 002/030 | Loss 0.0844 | Win/lose count 9.200000000000003/30.800000000000118 (-21.600000000000115)\n",
      "Epoch 003/030 | Loss 0.2799 | Win/lose count 8.800000000000002/32.900000000000134 (-24.10000000000013)\n",
      "Epoch 004/030 | Loss 1.2842 | Win/lose count 7.200000000000002/30.300000000000068 (-23.100000000000065)\n",
      "Epoch 005/030 | Loss 1.0623 | Win/lose count 8.800000000000002/29.90000000000012 (-21.100000000000115)\n",
      "Epoch 006/030 | Loss 1.2391 | Win/lose count 6.800000000000002/32.40000000000012 (-25.60000000000012)\n",
      "Epoch 007/030 | Loss 1.2479 | Win/lose count 11.600000000000005/29.200000000000113 (-17.600000000000108)\n",
      "Epoch 008/030 | Loss 1.2189 | Win/lose count 5.2/30.800000000000097 (-25.600000000000097)\n",
      "Epoch 009/030 | Loss 1.3139 | Win/lose count 8.000000000000002/28.10000000000007 (-20.100000000000065)\n",
      "Epoch 010/030 | Loss 1.7322 | Win/lose count 8.400000000000002/31.000000000000117 (-22.600000000000115)\n",
      "Epoch 011/030 | Loss 1.2246 | Win/lose count 10.400000000000004/31.50000000000016 (-21.100000000000158)\n",
      "Epoch 012/030 | Loss 1.7867 | Win/lose count 8.400000000000002/37.000000000000135 (-28.600000000000133)\n",
      "Epoch 013/030 | Loss 1.6749 | Win/lose count 8.400000000000002/27.000000000000085 (-18.600000000000083)\n",
      "Epoch 014/030 | Loss 1.1331 | Win/lose count 8.400000000000002/31.0000000000001 (-22.600000000000097)\n",
      "Epoch 015/030 | Loss 1.5418 | Win/lose count 8.000000000000002/34.100000000000065 (-26.100000000000065)\n",
      "Epoch 016/030 | Loss 1.2625 | Win/lose count 12.800000000000006/33.90000000000012 (-21.100000000000115)\n",
      "Epoch 017/030 | Loss 1.5388 | Win/lose count 7.200000000000002/33.300000000000125 (-26.100000000000122)\n",
      "Epoch 018/030 | Loss 0.8626 | Win/lose count 11.600000000000005/31.20000000000014 (-19.600000000000136)\n",
      "Epoch 019/030 | Loss 1.7438 | Win/lose count 7.600000000000002/32.20000000000009 (-24.600000000000087)\n",
      "Epoch 020/030 | Loss 1.7319 | Win/lose count 6.400000000000001/33.5000000000001 (-27.100000000000097)\n",
      "Epoch 021/030 | Loss 1.6284 | Win/lose count 8.400000000000002/35.00000000000012 (-26.60000000000012)\n",
      "Epoch 022/030 | Loss 1.5764 | Win/lose count 12.800000000000006/33.90000000000009 (-21.100000000000087)\n",
      "Epoch 023/030 | Loss 1.6617 | Win/lose count 6.800000000000002/28.400000000000144 (-21.600000000000144)\n",
      "Epoch 024/030 | Loss 1.6140 | Win/lose count 8.800000000000002/27.900000000000105 (-19.1000000000001)\n",
      "Epoch 025/030 | Loss 1.9165 | Win/lose count 12.800000000000006/30.900000000000126 (-18.100000000000122)\n",
      "Epoch 026/030 | Loss 1.7276 | Win/lose count 8.400000000000002/32.0000000000001 (-23.600000000000097)\n",
      "Epoch 027/030 | Loss 1.3912 | Win/lose count 13.600000000000007/32.7000000000001 (-19.100000000000094)\n",
      "Epoch 028/030 | Loss 1.6128 | Win/lose count 10.800000000000004/27.40000000000009 (-16.600000000000087)\n",
      "Epoch 029/030 | Loss 1.7179 | Win/lose count 9.200000000000003/37.80000000000017 (-28.600000000000165)\n"
     ]
    },
    {
     "data": {
      "text/html": [
       "<video alt=\"test\" controls>\n",
       "                <source src=\"data:video/mp4;base64,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\" type=\"video/mp4\" />\n",
       "             </video>"
      ],
      "text/plain": [
       "<IPython.core.display.HTML object>"
      ]
     },
     "execution_count": 40,
     "metadata": {
      "tags": []
     },
     "output_type": "execute_result"
    }
   ],
   "source": [
    "# Training\n",
    "env = EnvironmentExploring(grid_size=size, max_time=T, temperature=0.3)\n",
    "agent = DQN_CNN(size, lr=.1, epsilon = 0.1, memory_size=2000, batch_size = 32,n_state=3)\n",
    "train_explore(agent, env, epochs_train, prefix='cnn_train_explore')\n",
    "HTML(display_videos('cnn_train_explore10.mp4'))"
   ]
  },
  {
   "cell_type": "code",
   "execution_count": 43,
   "metadata": {
    "colab": {
     "base_uri": "https://localhost:8080/",
     "height": 811
    },
    "colab_type": "code",
    "id": "2gtY_IQfTtDY",
    "outputId": "e1942c76-9716-4880-abd8-81dc8e60b3ac"
   },
   "outputs": [
    {
     "name": "stdout",
     "output_type": "stream",
     "text": [
      "Win/lose count 0.5/0. Average score (100.5)\n",
      "Win/lose count 1.0/1.0. Average score (50.25)\n",
      "Win/lose count 1.0/2.0. Average score (-32.0)\n",
      "Win/lose count 1.0/0. Average score (26.0)\n",
      "Win/lose count 1.5/2.0. Average score (0.4)\n",
      "Win/lose count 0/0. Average score (0.3333333333333333)\n",
      "Win/lose count 0.5/2.0. Average score (-35.0)\n",
      "Win/lose count 1.0/1.0. Average score (-39.9375)\n",
      "Win/lose count 1.5/1.0. Average score (-24.944444444444443)\n",
      "Win/lose count 3.0/1.0. Average score (15.1)\n",
      "Win/lose count 0.5/4.0. Average score (-49.0)\n",
      "Win/lose count 3.5/0. Average score (12.166666666666666)\n",
      "Win/lose count 1.5/1.0. Average score (27.192307692307693)\n",
      "Win/lose count 2.0/1.0. Average score (39.714285714285715)\n",
      "Win/lose count 2.0/0. Average score (63.3)\n",
      "Win/lose count 0.5/1.0. Average score (53.1875)\n",
      "Win/lose count 1.0/0. Average score (58.64705882352941)\n",
      "Win/lose count 0/0. Average score (55.388888888888886)\n",
      "Win/lose count 2.0/1.0. Average score (62.94736842105263)\n",
      "Win/lose count 0/0. Average score (59.8)\n",
      "Win/lose count 0.5/1.0. Average score (52.30952380952381)\n",
      "Win/lose count 1.0/3.0. Average score (32.13636363636363)\n",
      "Win/lose count 1.0/2.0. Average score (34.608695652173914)\n",
      "Win/lose count 1.0/0. Average score (41.479166666666664)\n",
      "Win/lose count 1.5/2.0. Average score (38.56)\n",
      "Win/lose count 2.0/1.0. Average score (40.84615384615385)\n",
      "Win/lose count 1.5/2.0. Average score (36.851851851851855)\n",
      "Win/lose count 1.0/1.0. Average score (35.607142857142854)\n",
      "Win/lose count 0/5.0. Average score (0.3448275862068966)\n",
      "Win/lose count 0.5/1.0. Average score (-2.9833333333333334)\n",
      "Final score: -2.9833333333333334\n"
     ]
    },
    {
     "data": {
      "text/html": [
       "<video alt=\"test\" controls>\n",
       "                <source src=\"data:video/mp4;base64,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\" type=\"video/mp4\" />\n",
       "             </video>"
      ],
      "text/plain": [
       "<IPython.core.display.HTML object>"
      ]
     },
     "execution_count": 43,
     "metadata": {
      "tags": []
     },
     "output_type": "execute_result"
    }
   ],
   "source": [
    "# Evaluation\n",
    "test(agent,env,epochs_test,prefix='cnn_test_explore')\n",
    "HTML(display_videos('cnn_test_explore10.mp4'))"
   ]
  },
  {
   "cell_type": "markdown",
   "metadata": {
    "colab_type": "text",
    "id": "sUSS6iQxTtDg"
   },
   "source": [
    "***\n",
    "***\n",
    "__BONUS question__ Use the expert DQN from the previous question to generate some winning games. Train a model that mimicks its behavior. Compare the performances."
   ]
  },
  {
   "cell_type": "markdown",
   "metadata": {
    "colab_type": "text",
    "id": "U_mZLKNRTtDj"
   },
   "source": [
    "***"
   ]
  }
 ],
 "metadata": {
  "colab": {
   "collapsed_sections": [],
   "name": "RL_homework.ipynb",
   "provenance": []
  },
  "kernelspec": {
   "display_name": "Python 3",
   "language": "python",
   "name": "python3"
  },
  "language_info": {
   "codemirror_mode": {
    "name": "ipython",
    "version": 3
   },
   "file_extension": ".py",
   "mimetype": "text/x-python",
   "name": "python",
   "nbconvert_exporter": "python",
   "pygments_lexer": "ipython3",
   "version": "3.7.4"
  }
 },
 "nbformat": 4,
 "nbformat_minor": 1
}
